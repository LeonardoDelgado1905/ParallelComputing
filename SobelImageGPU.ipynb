{
  "nbformat": 4,
  "nbformat_minor": 0,
  "metadata": {
    "colab": {
      "name": "SobelImageGPU.ipynb",
      "provenance": [],
      "collapsed_sections": [],
      "include_colab_link": true
    },
    "kernelspec": {
      "name": "python3",
      "display_name": "Python 3"
    },
    "language_info": {
      "name": "python"
    },
    "accelerator": "GPU"
  },
  "cells": [
    {
      "cell_type": "markdown",
      "metadata": {
        "id": "view-in-github",
        "colab_type": "text"
      },
      "source": [
        "<a href=\"https://colab.research.google.com/github/LeonardoDelgado1905/ParallelComputing/blob/master/SobelImageGPU.ipynb\" target=\"_parent\"><img src=\"https://colab.research.google.com/assets/colab-badge.svg\" alt=\"Open In Colab\"/></a>"
      ]
    },
    {
      "cell_type": "code",
      "execution_count": null,
      "metadata": {
        "colab": {
          "base_uri": "https://localhost:8080/"
        },
        "id": "JtzTO8D0NUqP",
        "outputId": "b5afd3f7-39d0-4df7-d442-e361f95be043"
      },
      "outputs": [
        {
          "output_type": "stream",
          "name": "stdout",
          "text": [
            "/usr/local/cuda-11.0/samples/1_Utilities/deviceQuery\n",
            "/usr/local/cuda-11.0/bin/nvcc -ccbin g++ -I../../common/inc  -m64    -gencode arch=compute_35,code=sm_35 -gencode arch=compute_37,code=sm_37 -gencode arch=compute_50,code=sm_50 -gencode arch=compute_52,code=sm_52 -gencode arch=compute_60,code=sm_60 -gencode arch=compute_61,code=sm_61 -gencode arch=compute_70,code=sm_70 -gencode arch=compute_75,code=sm_75 -gencode arch=compute_80,code=sm_80 -gencode arch=compute_80,code=compute_80 -o deviceQuery.o -c deviceQuery.cpp\n",
            "nvcc warning : The 'compute_35', 'compute_37', 'compute_50', 'sm_35', 'sm_37' and 'sm_50' architectures are deprecated, and may be removed in a future release (Use -Wno-deprecated-gpu-targets to suppress warning).\n",
            "/usr/local/cuda-11.0/bin/nvcc -ccbin g++   -m64      -gencode arch=compute_35,code=sm_35 -gencode arch=compute_37,code=sm_37 -gencode arch=compute_50,code=sm_50 -gencode arch=compute_52,code=sm_52 -gencode arch=compute_60,code=sm_60 -gencode arch=compute_61,code=sm_61 -gencode arch=compute_70,code=sm_70 -gencode arch=compute_75,code=sm_75 -gencode arch=compute_80,code=sm_80 -gencode arch=compute_80,code=compute_80 -o deviceQuery deviceQuery.o \n",
            "nvcc warning : The 'compute_35', 'compute_37', 'compute_50', 'sm_35', 'sm_37' and 'sm_50' architectures are deprecated, and may be removed in a future release (Use -Wno-deprecated-gpu-targets to suppress warning).\n",
            "mkdir -p ../../bin/x86_64/linux/release\n",
            "cp deviceQuery ../../bin/x86_64/linux/release\n",
            "./deviceQuery Starting...\n",
            "\n",
            " CUDA Device Query (Runtime API) version (CUDART static linking)\n",
            "\n",
            "Detected 1 CUDA Capable device(s)\n",
            "\n",
            "Device 0: \"Tesla T4\"\n",
            "  CUDA Driver Version / Runtime Version          11.2 / 11.0\n",
            "  CUDA Capability Major/Minor version number:    7.5\n",
            "  Total amount of global memory:                 15110 MBytes (15843721216 bytes)\n",
            "  (40) Multiprocessors, ( 64) CUDA Cores/MP:     2560 CUDA Cores\n",
            "  GPU Max Clock rate:                            1590 MHz (1.59 GHz)\n",
            "  Memory Clock rate:                             5001 Mhz\n",
            "  Memory Bus Width:                              256-bit\n",
            "  L2 Cache Size:                                 4194304 bytes\n",
            "  Maximum Texture Dimension Size (x,y,z)         1D=(131072), 2D=(131072, 65536), 3D=(16384, 16384, 16384)\n",
            "  Maximum Layered 1D Texture Size, (num) layers  1D=(32768), 2048 layers\n",
            "  Maximum Layered 2D Texture Size, (num) layers  2D=(32768, 32768), 2048 layers\n",
            "  Total amount of constant memory:               65536 bytes\n",
            "  Total amount of shared memory per block:       49152 bytes\n",
            "  Total number of registers available per block: 65536\n",
            "  Warp size:                                     32\n",
            "  Maximum number of threads per multiprocessor:  1024\n",
            "  Maximum number of threads per block:           1024\n",
            "  Max dimension size of a thread block (x,y,z): (1024, 1024, 64)\n",
            "  Max dimension size of a grid size    (x,y,z): (2147483647, 65535, 65535)\n",
            "  Maximum memory pitch:                          2147483647 bytes\n",
            "  Texture alignment:                             512 bytes\n",
            "  Concurrent copy and kernel execution:          Yes with 3 copy engine(s)\n",
            "  Run time limit on kernels:                     No\n",
            "  Integrated GPU sharing Host Memory:            No\n",
            "  Support host page-locked memory mapping:       Yes\n",
            "  Alignment requirement for Surfaces:            Yes\n",
            "  Device has ECC support:                        Enabled\n",
            "  Device supports Unified Addressing (UVA):      Yes\n",
            "  Device supports Managed Memory:                Yes\n",
            "  Device supports Compute Preemption:            Yes\n",
            "  Supports Cooperative Kernel Launch:            Yes\n",
            "  Supports MultiDevice Co-op Kernel Launch:      Yes\n",
            "  Device PCI Domain ID / Bus ID / location ID:   0 / 0 / 4\n",
            "  Compute Mode:\n",
            "     < Default (multiple host threads can use ::cudaSetDevice() with device simultaneously) >\n",
            "\n",
            "deviceQuery, CUDA Driver = CUDART, CUDA Driver Version = 11.2, CUDA Runtime Version = 11.0, NumDevs = 1\n",
            "Result = PASS\n"
          ]
        }
      ],
      "source": [
        "%cd /usr/local/cuda-11.0/samples/1_Utilities/deviceQuery\n",
        "!make\n",
        "!./deviceQuery"
      ]
    },
    {
      "cell_type": "code",
      "source": [
        "#@title cuda Install\n",
        "!echo CUDA AND NVIDIA INSTALLATION\n",
        "!echo NOTE: THERE IS A QUESTION IN THE INSTALLATION, PLEASE DO NOT FORGET TO ANSWER IT (YOU CAN CHOOSE Y)\n",
        "!wget https://developer.download.nvidia.com/compute/cuda/repos/ubuntu1604/x86_64/cuda-repo-ubuntu1604_8.0.61-1_amd64.deb;\n",
        "!dpkg -i cuda-repo-ubuntu1604_8.0.61-1_amd64.deb;\n",
        "!apt-get update -qq;\n",
        "!apt-get install cuda-8.0;\n",
        "!ln -sf /usr/local/cuda-8.0 /usr/local/cuda\n",
        "import os\n",
        "os.environ['PATH'] += ':/usr/local/cuda/bin'\n",
        "os.environ['LD_LIBRARY_PATH'] += ':/usr/local/cuda/lib'\n",
        "\n",
        "!apt-get install gcc-5 g++-5 -y -qq;\n",
        "!ln -s /usr/bin/gcc-5 /usr/local/cuda/bin/gcc;\n",
        "!ln -s /usr/bin/g++-5 /usr/local/cuda/bin/g++;"
      ],
      "metadata": {
        "colab": {
          "base_uri": "https://localhost:8080/"
        },
        "id": "LZ9N2ravNxnX",
        "outputId": "218e6121-c18e-470a-c230-0526e2326e9c"
      },
      "execution_count": null,
      "outputs": [
        {
          "output_type": "stream",
          "name": "stdout",
          "text": [
            "CUDA AND NVIDIA INSTALLATION\n",
            "/bin/bash: -c: line 0: syntax error near unexpected token `('\n",
            "/bin/bash: -c: line 0: `echo NOTE: THERE IS A QUESTION IN THE INSTALLATION, PLEASE DO NOT FORGET TO ANSWER IT (YOU CAN CHOOSE Y)'\n",
            "--2022-01-18 16:50:18--  https://developer.download.nvidia.com/compute/cuda/repos/ubuntu1604/x86_64/cuda-repo-ubuntu1604_8.0.61-1_amd64.deb\n",
            "Resolving developer.download.nvidia.com (developer.download.nvidia.com)... 152.195.19.142\n",
            "Connecting to developer.download.nvidia.com (developer.download.nvidia.com)|152.195.19.142|:443... connected.\n",
            "HTTP request sent, awaiting response... 200 OK\n",
            "Length: 2690 (2.6K) [application/x-deb]\n",
            "Saving to: ‘cuda-repo-ubuntu1604_8.0.61-1_amd64.deb’\n",
            "\n",
            "cuda-repo-ubuntu160 100%[===================>]   2.63K  --.-KB/s    in 0s      \n",
            "\n",
            "2022-01-18 16:50:18 (150 MB/s) - ‘cuda-repo-ubuntu1604_8.0.61-1_amd64.deb’ saved [2690/2690]\n",
            "\n",
            "Selecting previously unselected package cuda-repo-ubuntu1604.\n",
            "(Reading database ... 155229 files and directories currently installed.)\n",
            "Preparing to unpack cuda-repo-ubuntu1604_8.0.61-1_amd64.deb ...\n",
            "Unpacking cuda-repo-ubuntu1604 (8.0.61-1) ...\n",
            "Setting up cuda-repo-ubuntu1604 (8.0.61-1) ...\n",
            "\n",
            "Configuration file '/etc/apt/sources.list.d/cuda.list'\n",
            " ==> File on system created by you or by a script.\n",
            " ==> File also in package provided by package maintainer.\n",
            "   What would you like to do about it ?  Your options are:\n",
            "    Y or I  : install the package maintainer's version\n",
            "    N or O  : keep your currently-installed version\n",
            "      D     : show the differences between the versions\n",
            "      Z     : start a shell to examine the situation\n",
            " The default action is to keep your current version.\n",
            "*** cuda.list (Y/I/N/O/D/Z) [default=N] ? y\n",
            "Installing new version of config file /etc/apt/sources.list.d/cuda.list ...\n",
            "Warning: The postinst maintainerscript of the package cuda-repo-ubuntu1604\n",
            "Warning: seems to use apt-key (provided by apt) without depending on gnupg or gnupg2.\n",
            "Warning: This will BREAK in the future and should be fixed by the package maintainer(s).\n",
            "Note: Check first if apt-key functionality is needed at all - it probably isn't!\n",
            "Warning: apt-key should not be used in scripts (called from postinst maintainerscript of the package cuda-repo-ubuntu1604)\n",
            "OK\n",
            "Reading package lists... Done\n",
            "Building dependency tree       \n",
            "Reading state information... Done\n",
            "Note, selecting 'cuda-8-0' for regex 'cuda-8.0'\n",
            "Note, selecting 'libcuda-8.0-1' for regex 'cuda-8.0'\n",
            "The following additional packages will be installed:\n",
            "  cuda-command-line-tools-8-0 cuda-core-8-0 cuda-cublas-8-0\n",
            "  cuda-cublas-dev-8-0 cuda-cudart-8-0 cuda-cudart-dev-8-0 cuda-cufft-8-0\n",
            "  cuda-cufft-dev-8-0 cuda-curand-8-0 cuda-curand-dev-8-0 cuda-cusolver-8-0\n",
            "  cuda-cusolver-dev-8-0 cuda-cusparse-8-0 cuda-cusparse-dev-8-0\n",
            "  cuda-demo-suite-8-0 cuda-documentation-8-0 cuda-driver-dev-8-0\n",
            "  cuda-license-8-0 cuda-misc-headers-8-0 cuda-npp-8-0 cuda-npp-dev-8-0\n",
            "  cuda-nvgraph-8-0 cuda-nvgraph-dev-8-0 cuda-nvml-dev-8-0 cuda-nvrtc-8-0\n",
            "  cuda-nvrtc-dev-8-0 cuda-runtime-8-0 cuda-samples-8-0 cuda-toolkit-8-0\n",
            "  cuda-visual-tools-8-0\n",
            "The following NEW packages will be installed:\n",
            "  cuda-8-0 cuda-command-line-tools-8-0 cuda-core-8-0 cuda-cublas-8-0\n",
            "  cuda-cublas-dev-8-0 cuda-cudart-8-0 cuda-cudart-dev-8-0 cuda-cufft-8-0\n",
            "  cuda-cufft-dev-8-0 cuda-curand-8-0 cuda-curand-dev-8-0 cuda-cusolver-8-0\n",
            "  cuda-cusolver-dev-8-0 cuda-cusparse-8-0 cuda-cusparse-dev-8-0\n",
            "  cuda-demo-suite-8-0 cuda-documentation-8-0 cuda-driver-dev-8-0\n",
            "  cuda-license-8-0 cuda-misc-headers-8-0 cuda-npp-8-0 cuda-npp-dev-8-0\n",
            "  cuda-nvgraph-8-0 cuda-nvgraph-dev-8-0 cuda-nvml-dev-8-0 cuda-nvrtc-8-0\n",
            "  cuda-nvrtc-dev-8-0 cuda-runtime-8-0 cuda-samples-8-0 cuda-toolkit-8-0\n",
            "  cuda-visual-tools-8-0\n",
            "0 upgraded, 31 newly installed, 0 to remove and 55 not upgraded.\n",
            "Need to get 1,352 MB of archives.\n",
            "After this operation, 2,144 MB of additional disk space will be used.\n",
            "Get:1 http://developer.download.nvidia.com/compute/cuda/repos/ubuntu1604/x86_64  cuda-license-8-0 8.0.61-1 [27.6 kB]\n",
            "Get:2 http://developer.download.nvidia.com/compute/cuda/repos/ubuntu1604/x86_64  cuda-misc-headers-8-0 8.0.61-1 [1,077 kB]\n",
            "Get:3 http://developer.download.nvidia.com/compute/cuda/repos/ubuntu1604/x86_64  cuda-core-8-0 8.0.61-1 [20.0 MB]\n",
            "Get:4 http://developer.download.nvidia.com/compute/cuda/repos/ubuntu1604/x86_64  cuda-cudart-8-0 8.0.61-1 [135 kB]\n",
            "Get:5 http://developer.download.nvidia.com/compute/cuda/repos/ubuntu1604/x86_64  cuda-driver-dev-8-0 8.0.61-1 [14.1 kB]\n",
            "Get:6 http://developer.download.nvidia.com/compute/cuda/repos/ubuntu1604/x86_64  cuda-cudart-dev-8-0 8.0.61-1 [1,071 kB]\n",
            "Get:7 http://developer.download.nvidia.com/compute/cuda/repos/ubuntu1604/x86_64  cuda-command-line-tools-8-0 8.0.61-1 [26.1 MB]\n",
            "Get:8 http://developer.download.nvidia.com/compute/cuda/repos/ubuntu1604/x86_64  cuda-nvrtc-8-0 8.0.61-1 [9,585 kB]\n",
            "Get:9 http://developer.download.nvidia.com/compute/cuda/repos/ubuntu1604/x86_64  cuda-nvrtc-dev-8-0 8.0.61-1 [10.8 kB]\n",
            "Get:10 http://developer.download.nvidia.com/compute/cuda/repos/ubuntu1604/x86_64  cuda-cusolver-8-0 8.0.61-1 [29.3 MB]\n",
            "Get:11 http://developer.download.nvidia.com/compute/cuda/repos/ubuntu1604/x86_64  cuda-cusolver-dev-8-0 8.0.61-1 [6,816 kB]\n",
            "Get:12 http://developer.download.nvidia.com/compute/cuda/repos/ubuntu1604/x86_64  cuda-cublas-8-0 8.0.61.2-1 [58.1 MB]\n",
            "Get:13 http://developer.download.nvidia.com/compute/cuda/repos/ubuntu1604/x86_64  cuda-cublas-dev-8-0 8.0.61.2-1 [66.6 MB]\n",
            "Get:14 http://developer.download.nvidia.com/compute/cuda/repos/ubuntu1604/x86_64  cuda-cufft-8-0 8.0.61-1 [117 MB]\n",
            "Get:15 http://developer.download.nvidia.com/compute/cuda/repos/ubuntu1604/x86_64  cuda-cufft-dev-8-0 8.0.61-1 [94.8 MB]\n",
            "Get:16 http://developer.download.nvidia.com/compute/cuda/repos/ubuntu1604/x86_64  cuda-curand-8-0 8.0.61-1 [43.7 MB]\n",
            "Get:17 http://developer.download.nvidia.com/compute/cuda/repos/ubuntu1604/x86_64  cuda-curand-dev-8-0 8.0.61-1 [67.7 MB]\n",
            "Get:18 http://developer.download.nvidia.com/compute/cuda/repos/ubuntu1604/x86_64  cuda-cusparse-8-0 8.0.61-1 [28.8 MB]\n",
            "Get:19 http://developer.download.nvidia.com/compute/cuda/repos/ubuntu1604/x86_64  cuda-cusparse-dev-8-0 8.0.61-1 [29.6 MB]\n",
            "Get:20 http://developer.download.nvidia.com/compute/cuda/repos/ubuntu1604/x86_64  cuda-npp-8-0 8.0.61-1 [157 MB]\n",
            "Get:21 http://developer.download.nvidia.com/compute/cuda/repos/ubuntu1604/x86_64  cuda-npp-dev-8-0 8.0.61-1 [82.3 MB]\n",
            "Get:22 http://developer.download.nvidia.com/compute/cuda/repos/ubuntu1604/x86_64  cuda-samples-8-0 8.0.61-1 [101 MB]\n",
            "Get:23 http://developer.download.nvidia.com/compute/cuda/repos/ubuntu1604/x86_64  cuda-documentation-8-0 8.0.61-1 [113 MB]\n",
            "Get:24 http://developer.download.nvidia.com/compute/cuda/repos/ubuntu1604/x86_64  cuda-nvml-dev-8-0 8.0.61-1 [48.4 kB]\n",
            "Get:25 http://developer.download.nvidia.com/compute/cuda/repos/ubuntu1604/x86_64  cuda-nvgraph-8-0 8.0.61-1 [2,948 kB]\n",
            "Get:26 http://developer.download.nvidia.com/compute/cuda/repos/ubuntu1604/x86_64  cuda-nvgraph-dev-8-0 8.0.61-1 [3,028 kB]\n",
            "Get:27 http://developer.download.nvidia.com/compute/cuda/repos/ubuntu1604/x86_64  cuda-visual-tools-8-0 8.0.61-1 [286 MB]\n",
            "Get:28 http://developer.download.nvidia.com/compute/cuda/repos/ubuntu1604/x86_64  cuda-toolkit-8-0 8.0.61-1 [2,892 B]\n",
            "Get:29 http://developer.download.nvidia.com/compute/cuda/repos/ubuntu1604/x86_64  cuda-runtime-8-0 8.0.61-1 [2,574 B]\n",
            "Get:30 http://developer.download.nvidia.com/compute/cuda/repos/ubuntu1604/x86_64  cuda-demo-suite-8-0 8.0.61-1 [4,988 kB]\n",
            "Get:31 http://developer.download.nvidia.com/compute/cuda/repos/ubuntu1604/x86_64  cuda-8-0 8.0.61-1 [2,556 B]\n",
            "Fetched 1,352 MB in 20s (67.3 MB/s)\n",
            "Extracting templates from packages: 100%\n",
            "Selecting previously unselected package cuda-license-8-0.\n",
            "(Reading database ... 155232 files and directories currently installed.)\n",
            "Preparing to unpack .../00-cuda-license-8-0_8.0.61-1_amd64.deb ...\n",
            "Unpacking cuda-license-8-0 (8.0.61-1) ...\n",
            "Selecting previously unselected package cuda-misc-headers-8-0.\n",
            "Preparing to unpack .../01-cuda-misc-headers-8-0_8.0.61-1_amd64.deb ...\n",
            "Unpacking cuda-misc-headers-8-0 (8.0.61-1) ...\n",
            "Selecting previously unselected package cuda-core-8-0.\n",
            "Preparing to unpack .../02-cuda-core-8-0_8.0.61-1_amd64.deb ...\n",
            "Unpacking cuda-core-8-0 (8.0.61-1) ...\n",
            "Selecting previously unselected package cuda-cudart-8-0.\n",
            "Preparing to unpack .../03-cuda-cudart-8-0_8.0.61-1_amd64.deb ...\n",
            "Unpacking cuda-cudart-8-0 (8.0.61-1) ...\n",
            "Selecting previously unselected package cuda-driver-dev-8-0.\n",
            "Preparing to unpack .../04-cuda-driver-dev-8-0_8.0.61-1_amd64.deb ...\n",
            "Unpacking cuda-driver-dev-8-0 (8.0.61-1) ...\n",
            "Selecting previously unselected package cuda-cudart-dev-8-0.\n",
            "Preparing to unpack .../05-cuda-cudart-dev-8-0_8.0.61-1_amd64.deb ...\n",
            "Unpacking cuda-cudart-dev-8-0 (8.0.61-1) ...\n",
            "Selecting previously unselected package cuda-command-line-tools-8-0.\n",
            "Preparing to unpack .../06-cuda-command-line-tools-8-0_8.0.61-1_amd64.deb ...\n",
            "Unpacking cuda-command-line-tools-8-0 (8.0.61-1) ...\n",
            "Selecting previously unselected package cuda-nvrtc-8-0.\n",
            "Preparing to unpack .../07-cuda-nvrtc-8-0_8.0.61-1_amd64.deb ...\n",
            "Unpacking cuda-nvrtc-8-0 (8.0.61-1) ...\n",
            "Selecting previously unselected package cuda-nvrtc-dev-8-0.\n",
            "Preparing to unpack .../08-cuda-nvrtc-dev-8-0_8.0.61-1_amd64.deb ...\n",
            "Unpacking cuda-nvrtc-dev-8-0 (8.0.61-1) ...\n",
            "Selecting previously unselected package cuda-cusolver-8-0.\n",
            "Preparing to unpack .../09-cuda-cusolver-8-0_8.0.61-1_amd64.deb ...\n",
            "Unpacking cuda-cusolver-8-0 (8.0.61-1) ...\n",
            "Selecting previously unselected package cuda-cusolver-dev-8-0.\n",
            "Preparing to unpack .../10-cuda-cusolver-dev-8-0_8.0.61-1_amd64.deb ...\n",
            "Unpacking cuda-cusolver-dev-8-0 (8.0.61-1) ...\n",
            "Selecting previously unselected package cuda-cublas-8-0.\n",
            "Preparing to unpack .../11-cuda-cublas-8-0_8.0.61.2-1_amd64.deb ...\n",
            "Unpacking cuda-cublas-8-0 (8.0.61.2-1) ...\n",
            "Selecting previously unselected package cuda-cublas-dev-8-0.\n",
            "Preparing to unpack .../12-cuda-cublas-dev-8-0_8.0.61.2-1_amd64.deb ...\n",
            "Unpacking cuda-cublas-dev-8-0 (8.0.61.2-1) ...\n",
            "Selecting previously unselected package cuda-cufft-8-0.\n",
            "Preparing to unpack .../13-cuda-cufft-8-0_8.0.61-1_amd64.deb ...\n",
            "Unpacking cuda-cufft-8-0 (8.0.61-1) ...\n",
            "Selecting previously unselected package cuda-cufft-dev-8-0.\n",
            "Preparing to unpack .../14-cuda-cufft-dev-8-0_8.0.61-1_amd64.deb ...\n",
            "Unpacking cuda-cufft-dev-8-0 (8.0.61-1) ...\n",
            "Selecting previously unselected package cuda-curand-8-0.\n",
            "Preparing to unpack .../15-cuda-curand-8-0_8.0.61-1_amd64.deb ...\n",
            "Unpacking cuda-curand-8-0 (8.0.61-1) ...\n",
            "Selecting previously unselected package cuda-curand-dev-8-0.\n",
            "Preparing to unpack .../16-cuda-curand-dev-8-0_8.0.61-1_amd64.deb ...\n",
            "Unpacking cuda-curand-dev-8-0 (8.0.61-1) ...\n",
            "Selecting previously unselected package cuda-cusparse-8-0.\n",
            "Preparing to unpack .../17-cuda-cusparse-8-0_8.0.61-1_amd64.deb ...\n",
            "Unpacking cuda-cusparse-8-0 (8.0.61-1) ...\n",
            "Selecting previously unselected package cuda-cusparse-dev-8-0.\n",
            "Preparing to unpack .../18-cuda-cusparse-dev-8-0_8.0.61-1_amd64.deb ...\n",
            "Unpacking cuda-cusparse-dev-8-0 (8.0.61-1) ...\n",
            "Selecting previously unselected package cuda-npp-8-0.\n",
            "Preparing to unpack .../19-cuda-npp-8-0_8.0.61-1_amd64.deb ...\n",
            "Unpacking cuda-npp-8-0 (8.0.61-1) ...\n",
            "Selecting previously unselected package cuda-npp-dev-8-0.\n",
            "Preparing to unpack .../20-cuda-npp-dev-8-0_8.0.61-1_amd64.deb ...\n",
            "Unpacking cuda-npp-dev-8-0 (8.0.61-1) ...\n",
            "Selecting previously unselected package cuda-samples-8-0.\n",
            "Preparing to unpack .../21-cuda-samples-8-0_8.0.61-1_amd64.deb ...\n",
            "Unpacking cuda-samples-8-0 (8.0.61-1) ...\n",
            "Selecting previously unselected package cuda-documentation-8-0.\n",
            "Preparing to unpack .../22-cuda-documentation-8-0_8.0.61-1_amd64.deb ...\n",
            "Unpacking cuda-documentation-8-0 (8.0.61-1) ...\n",
            "Selecting previously unselected package cuda-nvml-dev-8-0.\n",
            "Preparing to unpack .../23-cuda-nvml-dev-8-0_8.0.61-1_amd64.deb ...\n",
            "Unpacking cuda-nvml-dev-8-0 (8.0.61-1) ...\n",
            "Selecting previously unselected package cuda-nvgraph-8-0.\n",
            "Preparing to unpack .../24-cuda-nvgraph-8-0_8.0.61-1_amd64.deb ...\n",
            "Unpacking cuda-nvgraph-8-0 (8.0.61-1) ...\n",
            "Selecting previously unselected package cuda-nvgraph-dev-8-0.\n",
            "Preparing to unpack .../25-cuda-nvgraph-dev-8-0_8.0.61-1_amd64.deb ...\n",
            "Unpacking cuda-nvgraph-dev-8-0 (8.0.61-1) ...\n",
            "Selecting previously unselected package cuda-visual-tools-8-0.\n",
            "Preparing to unpack .../26-cuda-visual-tools-8-0_8.0.61-1_amd64.deb ...\n",
            "Unpacking cuda-visual-tools-8-0 (8.0.61-1) ...\n",
            "Selecting previously unselected package cuda-toolkit-8-0.\n",
            "Preparing to unpack .../27-cuda-toolkit-8-0_8.0.61-1_amd64.deb ...\n",
            "Unpacking cuda-toolkit-8-0 (8.0.61-1) ...\n",
            "Selecting previously unselected package cuda-runtime-8-0.\n",
            "Preparing to unpack .../28-cuda-runtime-8-0_8.0.61-1_amd64.deb ...\n",
            "Unpacking cuda-runtime-8-0 (8.0.61-1) ...\n",
            "Selecting previously unselected package cuda-demo-suite-8-0.\n",
            "Preparing to unpack .../29-cuda-demo-suite-8-0_8.0.61-1_amd64.deb ...\n",
            "Unpacking cuda-demo-suite-8-0 (8.0.61-1) ...\n",
            "Selecting previously unselected package cuda-8-0.\n",
            "Preparing to unpack .../30-cuda-8-0_8.0.61-1_amd64.deb ...\n",
            "Unpacking cuda-8-0 (8.0.61-1) ...\n",
            "Setting up cuda-license-8-0 (8.0.61-1) ...\n",
            "*** LICENSE AGREEMENT ***\n",
            "By using this software you agree to fully comply with the terms and \n",
            "conditions of the EULA (End User License Agreement). The EULA is located\n",
            "at /usr/local/cuda-8.0/doc/EULA.txt. The EULA can also be found at\n",
            "http://docs.nvidia.com/cuda/eula/index.html. If you do not agree to the\n",
            "terms and conditions of the EULA, do not use the software.\n",
            "\n",
            "Setting up cuda-nvgraph-8-0 (8.0.61-1) ...\n",
            "Setting up cuda-cufft-8-0 (8.0.61-1) ...\n",
            "Setting up cuda-npp-8-0 (8.0.61-1) ...\n",
            "Setting up cuda-nvgraph-dev-8-0 (8.0.61-1) ...\n",
            "Setting up cuda-cudart-8-0 (8.0.61-1) ...\n",
            "Setting up cuda-driver-dev-8-0 (8.0.61-1) ...\n",
            "Setting up cuda-cusolver-8-0 (8.0.61-1) ...\n",
            "Setting up cuda-nvml-dev-8-0 (8.0.61-1) ...\n",
            "Setting up cuda-cufft-dev-8-0 (8.0.61-1) ...\n",
            "Setting up cuda-misc-headers-8-0 (8.0.61-1) ...\n",
            "Setting up cuda-cusparse-8-0 (8.0.61-1) ...\n",
            "Setting up cuda-nvrtc-8-0 (8.0.61-1) ...\n",
            "Setting up cuda-nvrtc-dev-8-0 (8.0.61-1) ...\n",
            "Setting up cuda-curand-8-0 (8.0.61-1) ...\n",
            "Setting up cuda-cublas-8-0 (8.0.61.2-1) ...\n",
            "Setting up cuda-cusolver-dev-8-0 (8.0.61-1) ...\n",
            "Setting up cuda-core-8-0 (8.0.61-1) ...\n",
            "Setting up cuda-curand-dev-8-0 (8.0.61-1) ...\n",
            "Setting up cuda-npp-dev-8-0 (8.0.61-1) ...\n",
            "Setting up cuda-cudart-dev-8-0 (8.0.61-1) ...\n",
            "Setting up cuda-cublas-dev-8-0 (8.0.61.2-1) ...\n",
            "Setting up cuda-runtime-8-0 (8.0.61-1) ...\n",
            "Setting up cuda-cusparse-dev-8-0 (8.0.61-1) ...\n",
            "Setting up cuda-command-line-tools-8-0 (8.0.61-1) ...\n",
            "Setting up cuda-demo-suite-8-0 (8.0.61-1) ...\n",
            "Setting up cuda-samples-8-0 (8.0.61-1) ...\n",
            "Setting up cuda-visual-tools-8-0 (8.0.61-1) ...\n",
            "Setting up cuda-documentation-8-0 (8.0.61-1) ...\n",
            "Setting up cuda-toolkit-8-0 (8.0.61-1) ...\n",
            "Setting up cuda-8-0 (8.0.61-1) ...\n",
            "Processing triggers for libc-bin (2.27-3ubuntu1.3) ...\n",
            "/sbin/ldconfig.real: /usr/local/lib/python3.7/dist-packages/ideep4py/lib/libmkldnn.so.0 is not a symbolic link\n",
            "\n",
            "Selecting previously unselected package gcc-5-base:amd64.\n",
            "(Reading database ... 164232 files and directories currently installed.)\n",
            "Preparing to unpack .../0-gcc-5-base_5.5.0-12ubuntu1_amd64.deb ...\n",
            "Unpacking gcc-5-base:amd64 (5.5.0-12ubuntu1) ...\n",
            "Selecting previously unselected package libisl15:amd64.\n",
            "Preparing to unpack .../1-libisl15_0.18-4_amd64.deb ...\n",
            "Unpacking libisl15:amd64 (0.18-4) ...\n",
            "Selecting previously unselected package cpp-5.\n",
            "Preparing to unpack .../2-cpp-5_5.5.0-12ubuntu1_amd64.deb ...\n",
            "Unpacking cpp-5 (5.5.0-12ubuntu1) ...\n",
            "Selecting previously unselected package libasan2:amd64.\n",
            "Preparing to unpack .../3-libasan2_5.5.0-12ubuntu1_amd64.deb ...\n",
            "Unpacking libasan2:amd64 (5.5.0-12ubuntu1) ...\n",
            "Selecting previously unselected package libmpx0:amd64.\n",
            "Preparing to unpack .../4-libmpx0_5.5.0-12ubuntu1_amd64.deb ...\n",
            "Unpacking libmpx0:amd64 (5.5.0-12ubuntu1) ...\n",
            "Selecting previously unselected package libgcc-5-dev:amd64.\n",
            "Preparing to unpack .../5-libgcc-5-dev_5.5.0-12ubuntu1_amd64.deb ...\n",
            "Unpacking libgcc-5-dev:amd64 (5.5.0-12ubuntu1) ...\n",
            "Selecting previously unselected package gcc-5.\n",
            "Preparing to unpack .../6-gcc-5_5.5.0-12ubuntu1_amd64.deb ...\n",
            "Unpacking gcc-5 (5.5.0-12ubuntu1) ...\n",
            "Selecting previously unselected package libstdc++-5-dev:amd64.\n",
            "Preparing to unpack .../7-libstdc++-5-dev_5.5.0-12ubuntu1_amd64.deb ...\n",
            "Unpacking libstdc++-5-dev:amd64 (5.5.0-12ubuntu1) ...\n",
            "Selecting previously unselected package g++-5.\n",
            "Preparing to unpack .../8-g++-5_5.5.0-12ubuntu1_amd64.deb ...\n",
            "Unpacking g++-5 (5.5.0-12ubuntu1) ...\n",
            "Setting up libisl15:amd64 (0.18-4) ...\n",
            "Setting up gcc-5-base:amd64 (5.5.0-12ubuntu1) ...\n",
            "Setting up libmpx0:amd64 (5.5.0-12ubuntu1) ...\n",
            "Setting up libasan2:amd64 (5.5.0-12ubuntu1) ...\n",
            "Setting up libgcc-5-dev:amd64 (5.5.0-12ubuntu1) ...\n",
            "Setting up cpp-5 (5.5.0-12ubuntu1) ...\n",
            "Setting up libstdc++-5-dev:amd64 (5.5.0-12ubuntu1) ...\n",
            "Setting up gcc-5 (5.5.0-12ubuntu1) ...\n",
            "Setting up g++-5 (5.5.0-12ubuntu1) ...\n",
            "Processing triggers for man-db (2.8.3-2ubuntu0.1) ...\n",
            "Processing triggers for libc-bin (2.27-3ubuntu1.3) ...\n",
            "/sbin/ldconfig.real: /usr/local/lib/python3.7/dist-packages/ideep4py/lib/libmkldnn.so.0 is not a symbolic link\n",
            "\n"
          ]
        }
      ]
    },
    {
      "cell_type": "code",
      "source": [
        "!pip install git+git://github.com/andreinechaev/nvcc4jupyter.git\n",
        "%load_ext nvcc_plugin"
      ],
      "metadata": {
        "colab": {
          "base_uri": "https://localhost:8080/"
        },
        "id": "SlGDyokION7n",
        "outputId": "547a9a38-3a80-48e5-aabc-5e99f9cc9b08"
      },
      "execution_count": null,
      "outputs": [
        {
          "output_type": "stream",
          "name": "stdout",
          "text": [
            "Collecting git+git://github.com/andreinechaev/nvcc4jupyter.git\n",
            "  Cloning git://github.com/andreinechaev/nvcc4jupyter.git to /tmp/pip-req-build-hk27ffhi\n",
            "  Running command git clone -q git://github.com/andreinechaev/nvcc4jupyter.git /tmp/pip-req-build-hk27ffhi\n",
            "Building wheels for collected packages: NVCCPlugin\n",
            "  Building wheel for NVCCPlugin (setup.py) ... \u001b[?25l\u001b[?25hdone\n",
            "  Created wheel for NVCCPlugin: filename=NVCCPlugin-0.0.2-py3-none-any.whl size=4306 sha256=dec2c7b340b43a688611237f5308ab3667d146c721931d1b76427e3d2fa66bb4\n",
            "  Stored in directory: /tmp/pip-ephem-wheel-cache-ln0lk9vc/wheels/c5/2b/c0/87008e795a14bbcdfc7c846a00d06981916331eb980b6c8bdf\n",
            "Successfully built NVCCPlugin\n",
            "Installing collected packages: NVCCPlugin\n",
            "Successfully installed NVCCPlugin-0.0.2\n",
            "created output directory at /usr/local/cuda-11.0/samples/1_Utilities/deviceQuery/src\n",
            "Out bin /usr/local/cuda-11.0/samples/1_Utilities/deviceQuery/result.out\n"
          ]
        }
      ]
    },
    {
      "cell_type": "markdown",
      "source": [
        "## Sobel Image"
      ],
      "metadata": {
        "id": "noOvWAnbQd98"
      }
    },
    {
      "cell_type": "code",
      "source": [
        "%cd /content"
      ],
      "metadata": {
        "colab": {
          "base_uri": "https://localhost:8080/"
        },
        "id": "QRMFXvUeeKho",
        "outputId": "a7bbc65f-0c01-4a60-d240-da7f4f51e329"
      },
      "execution_count": null,
      "outputs": [
        {
          "output_type": "stream",
          "name": "stdout",
          "text": [
            "/content\n"
          ]
        }
      ]
    },
    {
      "cell_type": "code",
      "source": [
        "!git clone https://github.com/nothings/stb.git"
      ],
      "metadata": {
        "colab": {
          "base_uri": "https://localhost:8080/"
        },
        "id": "H5kSfu3k0f-R",
        "outputId": "eb763b0c-0966-4ee4-c8ce-b82e3de2d63f"
      },
      "execution_count": null,
      "outputs": [
        {
          "output_type": "stream",
          "name": "stdout",
          "text": [
            "Cloning into 'stb'...\n",
            "remote: Enumerating objects: 7844, done.\u001b[K\n",
            "remote: Counting objects: 100% (573/573), done.\u001b[K\n",
            "remote: Compressing objects: 100% (209/209), done.\u001b[K\n",
            "remote: Total 7844 (delta 372), reused 544 (delta 364), pack-reused 7271\u001b[K\n",
            "Receiving objects: 100% (7844/7844), 5.45 MiB | 27.10 MiB/s, done.\n",
            "Resolving deltas: 100% (5217/5217), done.\n"
          ]
        }
      ]
    },
    {
      "cell_type": "code",
      "source": [
        "%cp -R stb/. /usr/include/."
      ],
      "metadata": {
        "id": "I_DEOSTYILMm"
      },
      "execution_count": null,
      "outputs": []
    },
    {
      "cell_type": "code",
      "source": [
        "!git clone https://github.com/LeonardoDelgado1905/ParallelComputing.git"
      ],
      "metadata": {
        "colab": {
          "base_uri": "https://localhost:8080/"
        },
        "id": "UH1RXXNWLEZL",
        "outputId": "302d5d16-6945-4b3b-a161-e518c106d6f9"
      },
      "execution_count": null,
      "outputs": [
        {
          "output_type": "stream",
          "name": "stdout",
          "text": [
            "Cloning into 'ParallelComputing'...\n",
            "remote: Enumerating objects: 215, done.\u001b[K\n",
            "remote: Total 215 (delta 0), reused 0 (delta 0), pack-reused 215\u001b[K\n",
            "Receiving objects: 100% (215/215), 332.79 MiB | 45.96 MiB/s, done.\n",
            "Resolving deltas: 100% (90/90), done.\n",
            "Checking out files: 100% (84/84), done.\n"
          ]
        }
      ]
    },
    {
      "cell_type": "code",
      "source": [
        "%cp -R ParallelComputing/lab1/1080p/. ./1080\n",
        "%cp -R ParallelComputing/lab1/4k/. ./4k\n",
        "%cp -R ParallelComputing/lab1/720p/. ./720p"
      ],
      "metadata": {
        "id": "fj0E1GOJMZTN"
      },
      "execution_count": null,
      "outputs": []
    },
    {
      "cell_type": "code",
      "source": [
        "ls"
      ],
      "metadata": {
        "colab": {
          "base_uri": "https://localhost:8080/"
        },
        "id": "wAeELizGn9F2",
        "outputId": "a94f94d9-ccd7-4445-c1b8-62865851e3a3"
      },
      "execution_count": null,
      "outputs": [
        {
          "output_type": "stream",
          "name": "stdout",
          "text": [
            "\u001b[0m\u001b[01;34m1080\u001b[0m/  \u001b[01;34m4k\u001b[0m/  \u001b[01;34m720p\u001b[0m/  \u001b[01;34mParallelComputing\u001b[0m/  \u001b[01;34msample_data\u001b[0m/  \u001b[01;34mstb\u001b[0m/\n"
          ]
        }
      ]
    },
    {
      "cell_type": "code",
      "source": [
        "import cv2\n",
        "import matplotlib.pyplot as plt"
      ],
      "metadata": {
        "id": "kUAC7IQKN358"
      },
      "execution_count": null,
      "outputs": []
    },
    {
      "cell_type": "code",
      "source": [
        "def print_img(name):\n",
        "  image = cv2.imread(name)\n",
        "  image = cv2.cvtColor(image, cv2.COLOR_BGR2RGB)\n",
        "  plt.imshow(image)"
      ],
      "metadata": {
        "id": "-zU_urlRMlHN"
      },
      "execution_count": null,
      "outputs": []
    },
    {
      "cell_type": "code",
      "source": [
        "%ls"
      ],
      "metadata": {
        "colab": {
          "base_uri": "https://localhost:8080/"
        },
        "id": "D9Yxyy7XN9AO",
        "outputId": "92a50cc5-aed0-4faf-f251-c8c929eac207"
      },
      "execution_count": null,
      "outputs": [
        {
          "output_type": "stream",
          "name": "stdout",
          "text": [
            "\u001b[0m\u001b[01;34m1080\u001b[0m/  \u001b[01;34m4k\u001b[0m/  \u001b[01;34m720p\u001b[0m/  \u001b[01;34mParallelComputing\u001b[0m/  \u001b[01;34msample_data\u001b[0m/  \u001b[01;34mstb\u001b[0m/\n"
          ]
        }
      ]
    },
    {
      "cell_type": "code",
      "source": [
        "%%cuda --name sobel.cu --compile false\n",
        "\n",
        "#include <stdio.h>\n",
        "#include <stdlib.h>\n",
        "#include <math.h>\n",
        "#include <time.h>\n",
        "#include <omp.h>\n",
        "#include <sys/time.h>\n",
        "#define STB_IMAGE_IMPLEMENTATION\n",
        "#include <stb_image.h>\n",
        "#define STB_IMAGE_WRITE_IMPLEMENTATION\n",
        "#include <stb_image_write.h>\n",
        "\n",
        "#define BLOCKSPERGRID  512\n",
        "#define NUMTHREADS 8192\n",
        "\n",
        "\n",
        "/*****************************************************************************\n",
        "/*kernel\n",
        "*****************************************************************************/\n",
        "\n",
        "__global__ void handleGray(unsigned char *grayImage, unsigned char *image, int size, int totalThreads)\n",
        "{   \n",
        "    int start, end;\n",
        "    int index = (blockDim.x * blockIdx.x) + threadIdx.x;      \n",
        "    start = (size/totalThreads) * index;\n",
        "    end = start + (size/totalThreads) - 1;\n",
        "    int i = start;\n",
        " \n",
        "    do{\n",
        "        *(grayImage + i) = ((*(image + (i * 3)) + *(image + (i * 3) + 1) + *(image + (i * 3) + 2))/3.0);\n",
        "        i++;\n",
        "    }while(i <= end);\n",
        " \n",
        "}\n",
        "\n",
        "__global__ void handleSobel(int size, unsigned char *gray_img, unsigned char *sobel_img, int width, int height, int totalThreads)\n",
        "{   \n",
        "    int start, end;  \n",
        "    int index = (blockDim.x * blockIdx.x) + threadIdx.x;  \n",
        "\n",
        "    start = (size/totalThreads) * index;\n",
        "    end = start + (size/totalThreads) - 1;\n",
        "    if(index %10 == 0 && 0){\n",
        "      printf(\"index: %d, Start: %d \\n\", index, start);\n",
        "      printf(\"index: %d, End: %d \\n\", index, end);\n",
        "    }\n",
        "    \n",
        "    \n",
        " \n",
        "    unsigned char *p = gray_img + start;\n",
        "    unsigned char *pg = sobel_img + start;\n",
        "    long long i = start;\n",
        "    do{  \n",
        "        pg++;\n",
        "        p++;\n",
        "        i++;\n",
        "        int conv[] = {-1,-1,-1,-1,8,-1,-1,-1,-1};\n",
        "        size_t pos = p - gray_img;\n",
        "        if(pos % width == 0 || pos % (width-1) == 0 || (pos/width) % (height-1) == 0) { \n",
        "            *pg = 0;\n",
        "            continue;\n",
        "        }\n",
        "        int new_val = *(p-width-1) * *(conv) + *(p-width) * *(conv+1) + *(p-width+1) * *(conv+2) + \n",
        "            *(p-1) * *(conv+3) + *p * *(conv+4) + *(p+1) * *(conv+5) + \n",
        "            *(p+width-1) * *(conv+6) + *(p+width) * *(conv+7) + *(p+width+1) * *(conv+8) ;\n",
        "        *(pg) = new_val < 0 ? 0 : new_val;\n",
        "        \n",
        "    }while(i <= end);\n",
        " \n",
        "}\n",
        "\n",
        "/******************************************************************************/\n",
        "\n",
        "int main(int argc, char** argv) {\n",
        "    /*Declaración de variables para medir el tiempo de procesamiento y escibirlo en\n",
        "    un archivo de texto plano*/\n",
        "    int width, height, channels, blocksPerGrid, threadsPerBlock, totalThreads;\n",
        "    unsigned char *h_gray_img, *d_gray_img, *d_img, *h_sobel_img, *d_sobel_img;\n",
        "\n",
        "    \n",
        "    cudaError_t err = cudaSuccess;\n",
        "\n",
        "    if(argc != 5){\n",
        "        printf(\"beware of usage: ./sobel_image input_image output_image num_threads \\n\");\n",
        "        return 0;\n",
        "\n",
        "    }\n",
        "    //Asignamos los nombres de input y output para las imágenes en variables\n",
        "    char* input = argv[1];\n",
        "    char* output = argv[2];\n",
        "    int thread_count = atoi(argv[3]);\n",
        "    int block_count = atoi(argv[4]);\n",
        "    //int block_treads = \n",
        "    blocksPerGrid = block_count;\n",
        "\n",
        "    //Cargamos la imagen con el nombre de input ingresado\n",
        "    unsigned char *h_img = stbi_load(input, &width, &height, &channels, 0);\n",
        "    if(h_img == NULL) {\n",
        "        printf(\"Error in loading the image\\n\");\n",
        "        exit(1);\n",
        "    }\n",
        "\n",
        "    //Creamos variables para convertir la imagen de input a tonalidades de gris\n",
        "    int gray_channels = 1;\n",
        "    int img_size = width * height * channels;\n",
        "    int gray_img_size = width * height * gray_channels;\n",
        "\n",
        "    err = cudaMalloc((void **)&d_img, img_size);\n",
        "    if (err != cudaSuccess){\n",
        "        fprintf(stderr, \"Failed to allocate device image (error code %s)!\\n\", cudaGetErrorString(err));\n",
        "        exit(EXIT_FAILURE);\n",
        "    }\n",
        "\n",
        "    err = cudaMemcpy(d_img, h_img, img_size, cudaMemcpyHostToDevice);\n",
        "    if (err != cudaSuccess){\n",
        "        fprintf(stderr, \"Failed to copy image from host to device (error code %s)!\\n\", cudaGetErrorString(err));\n",
        "        exit(EXIT_FAILURE);\n",
        "    }\n",
        "\n",
        "    //Utilizamos memoria dinámica para el número de bits de la imagen en gris\n",
        "    h_gray_img = (unsigned char *)malloc(gray_img_size);\n",
        "    if(h_gray_img == NULL) {\n",
        "        printf(\"Unable to allocate memory for the host gray image.\\n\");\n",
        "        exit(1);\n",
        "    }\n",
        "    \n",
        "    err = cudaMalloc((void **)&d_gray_img, gray_img_size);\n",
        "    if (err != cudaSuccess){\n",
        "        fprintf(stderr, \"Failed to allocate device gray image (error code %s)!\\n\", cudaGetErrorString(err));\n",
        "        exit(EXIT_FAILURE);\n",
        "    }\n",
        "\n",
        "    err = cudaMemcpy(d_gray_img, h_gray_img, gray_img_size, cudaMemcpyHostToDevice);\n",
        "    if (err != cudaSuccess){\n",
        "        fprintf(stderr, \"Failed to copy vector C from device to host (error code %s)!\\n\", cudaGetErrorString(err));\n",
        "        exit(EXIT_FAILURE);\n",
        "    }    \n",
        "\n",
        "   //Ejecutamos el kernel para la conversión a escala de grises de la imagen\n",
        "    threadsPerBlock = thread_count/blocksPerGrid;\n",
        "    totalThreads = blocksPerGrid * threadsPerBlock;\n",
        "    printf(\"CUDA kernel launch with %d blocks of %d threads Total: %i     \", blocksPerGrid, threadsPerBlock, totalThreads);\n",
        "    handleGray<<<blocksPerGrid, threadsPerBlock>>>(d_gray_img,   d_img, gray_img_size,  totalThreads);\n",
        "    err = cudaGetLastError();\n",
        "    if (err != cudaSuccess){\n",
        "        fprintf(stderr, \"Failed to launch handleGray kernel (error code %s)!\\n\", cudaGetErrorString(err));\n",
        "        exit(EXIT_FAILURE);\n",
        "    }\n",
        "    \n",
        "    \n",
        "    err = cudaMemcpy(h_gray_img, d_gray_img, gray_img_size, cudaMemcpyDeviceToHost);\n",
        "    if (err != cudaSuccess){\n",
        "        fprintf(stderr, \"Failed to copy gray image from device to host (error code %s)!\\n\", cudaGetErrorString(err));\n",
        "        exit(EXIT_FAILURE);\n",
        "    }\n",
        "    stbi_write_png(\"gris.png\", width, height, gray_channels, h_gray_img, width * gray_channels);\n",
        "    \n",
        "\n",
        "    //Utilizamos memoria dinámica para el número de bits de la imagen sobel\n",
        "    h_sobel_img = (unsigned char *)malloc(gray_img_size);\n",
        "    if(h_sobel_img == NULL) {\n",
        "        printf(\"Unable to allocate memory for the host h_sobel_img.\\n\");\n",
        "        exit(1);\n",
        "    }\n",
        "    \n",
        "    err = cudaMalloc((void **)&d_sobel_img, gray_img_size);\n",
        "    if (err != cudaSuccess){\n",
        "        fprintf(stderr, \"Failed to allocate device h_sobel_img (error code %s)!\\n\", cudaGetErrorString(err));\n",
        "        exit(EXIT_FAILURE);\n",
        "    }\n",
        "\n",
        "    err = cudaMemcpy(d_sobel_img, h_sobel_img, gray_img_size, cudaMemcpyHostToDevice);\n",
        "    if (err != cudaSuccess){\n",
        "        fprintf(stderr, \"Failed to copy sobel image from host to device (error code %s)!\\n\", cudaGetErrorString(err));\n",
        "        exit(EXIT_FAILURE);\n",
        "    }    \n",
        "\n",
        "    //Ejecutamos el kernel para la aplicación de sobel\n",
        "    \n",
        "    printf(\"CUDA kernel launch with %d blocks of %d threads Total: %i     \", blocksPerGrid, threadsPerBlock, totalThreads  );\n",
        "    handleSobel<<<blocksPerGrid, threadsPerBlock>>>(gray_img_size, d_gray_img,  d_sobel_img, width,  height, totalThreads);\n",
        "    err = cudaGetLastError();\n",
        "    if (err != cudaSuccess){\n",
        "        fprintf(stderr, \"Failed to launch handleSobel kernel (error code %s)!\\n\", cudaGetErrorString(err));\n",
        "        exit(EXIT_FAILURE);\n",
        "    }\n",
        "\n",
        "    //printf(\"Count: %d \\n\", count);\n",
        "\n",
        "    err = cudaMemcpy(h_sobel_img, d_sobel_img, gray_img_size, cudaMemcpyDeviceToHost);\n",
        "    if (err != cudaSuccess){\n",
        "        fprintf(stderr, \"Failed to copy sobel image from device to host (error code %s)!\\n\", cudaGetErrorString(err));\n",
        "        exit(EXIT_FAILURE);\n",
        "    }\n",
        "\n",
        "    stbi_write_png(output, width, height, gray_channels, h_sobel_img, width * gray_channels);    \n",
        "    \n",
        "    \n",
        "    //Liberamos las memorias dinámicas de host y device\n",
        "    err = cudaFree(d_img);\n",
        "    if (err != cudaSuccess){\n",
        "        fprintf(stderr, \"Failed to free device d_img (error code %s)!\\n\", cudaGetErrorString(err));\n",
        "        exit(EXIT_FAILURE);\n",
        "    }\n",
        "\n",
        "    err = cudaFree(d_gray_img);\n",
        "    if (err != cudaSuccess){\n",
        "        fprintf(stderr, \"Failed to free device d_gray_img (error code %s)!\\n\", cudaGetErrorString(err));\n",
        "        exit(EXIT_FAILURE);\n",
        "    }\n",
        "\n",
        "    err = cudaFree(d_sobel_img);\n",
        "    if (err != cudaSuccess){\n",
        "        fprintf(stderr, \"Failed to free device d_sobel_img (error code %s)!\\n\", cudaGetErrorString(err));\n",
        "        exit(EXIT_FAILURE);\n",
        "    }\n",
        "    stbi_image_free(h_img);\n",
        "    free(h_gray_img);\n",
        "    free(h_sobel_img);    \n",
        "    \n",
        "    //Imprimimos la información \n",
        "    //printf(\"The execution time for %s with resolution: %dx%d and %d threads was: %f \\n\", input, width, height, thread_count, time_spent);\n",
        "}\n",
        "//change"
      ],
      "metadata": {
        "id": "BTXCwkQGQe7s",
        "colab": {
          "base_uri": "https://localhost:8080/",
          "height": 505
        },
        "outputId": "31dfc2a1-bc6d-46f5-ad03-a0dce569a4cc"
      },
      "execution_count": null,
      "outputs": [
        {
          "output_type": "error",
          "ename": "TypeError",
          "evalue": "ignored",
          "traceback": [
            "\u001b[0;31m---------------------------------------------------------------------------\u001b[0m",
            "\u001b[0;31mTypeError\u001b[0m                                 Traceback (most recent call last)",
            "\u001b[0;32m<ipython-input-13-7c76b5fdb93a>\u001b[0m in \u001b[0;36m<module>\u001b[0;34m()\u001b[0m\n\u001b[0;32m----> 1\u001b[0;31m \u001b[0mget_ipython\u001b[0m\u001b[0;34m(\u001b[0m\u001b[0;34m)\u001b[0m\u001b[0;34m.\u001b[0m\u001b[0mrun_cell_magic\u001b[0m\u001b[0;34m(\u001b[0m\u001b[0;34m'cuda'\u001b[0m\u001b[0;34m,\u001b[0m \u001b[0;34m'--name sobel.cu --compile false'\u001b[0m\u001b[0;34m,\u001b[0m \u001b[0;34m'\\n#include <stdio.h>\\n#include <stdlib.h>\\n#include <math.h>\\n#include <time.h>\\n#include <omp.h>\\n#include <sys/time.h>\\n#define STB_IMAGE_IMPLEMENTATION\\n#include <stb_image.h>\\n#define STB_IMAGE_WRITE_IMPLEMENTATION\\n#include <stb_image_write.h>\\n\\n#define BLOCKSPERGRID  512\\n#define NUMTHREADS 8192\\n\\n\\n/*****************************************************************************\\n/*kernel\\n*****************************************************************************/\\n\\n__global__ void handleGray(unsigned char *grayImage, unsigned char *image, int size, int totalThreads)\\n{   \\n    int start, end;\\n    int index = (blockDim.x * blockIdx.x) + threadIdx.x;      \\n    start = (size/totalThreads) * index;\\n    end = start + (size/totalThreads) - 1;\\n    int i = start;\\n \\n    do{\\n        *(grayImage + i) = ((*(image + (i * 3)) + *(image + (i * 3) + 1) + *(image + (i * 3) + 2))/3.0);\\n        i++;\\n    }while(i <= end);\\n \\n}\\n\\n__global__ void handleSobel(int size, unsigned char *gray_img, unsigned char *sobel_img, int width, int height, int totalThreads)\\n{   \\n    int start, end;  \\n    int index = (blockDim.x * blockIdx.x) + threadIdx.x;  \\n\\n    start = (size/totalThreads) * index;\\n    end = start + (size/totalThreads) - 1;\\n    if(index %10 == 0 && 0){\\n      pr...\n\u001b[0m",
            "\u001b[0;32m/usr/local/lib/python3.7/dist-packages/IPython/core/interactiveshell.py\u001b[0m in \u001b[0;36mrun_cell_magic\u001b[0;34m(self, magic_name, line, cell)\u001b[0m\n\u001b[1;32m   2115\u001b[0m             \u001b[0mmagic_arg_s\u001b[0m \u001b[0;34m=\u001b[0m \u001b[0mself\u001b[0m\u001b[0;34m.\u001b[0m\u001b[0mvar_expand\u001b[0m\u001b[0;34m(\u001b[0m\u001b[0mline\u001b[0m\u001b[0;34m,\u001b[0m \u001b[0mstack_depth\u001b[0m\u001b[0;34m)\u001b[0m\u001b[0;34m\u001b[0m\u001b[0;34m\u001b[0m\u001b[0m\n\u001b[1;32m   2116\u001b[0m             \u001b[0;32mwith\u001b[0m \u001b[0mself\u001b[0m\u001b[0;34m.\u001b[0m\u001b[0mbuiltin_trap\u001b[0m\u001b[0;34m:\u001b[0m\u001b[0;34m\u001b[0m\u001b[0;34m\u001b[0m\u001b[0m\n\u001b[0;32m-> 2117\u001b[0;31m                 \u001b[0mresult\u001b[0m \u001b[0;34m=\u001b[0m \u001b[0mfn\u001b[0m\u001b[0;34m(\u001b[0m\u001b[0mmagic_arg_s\u001b[0m\u001b[0;34m,\u001b[0m \u001b[0mcell\u001b[0m\u001b[0;34m)\u001b[0m\u001b[0;34m\u001b[0m\u001b[0;34m\u001b[0m\u001b[0m\n\u001b[0m\u001b[1;32m   2118\u001b[0m             \u001b[0;32mreturn\u001b[0m \u001b[0mresult\u001b[0m\u001b[0;34m\u001b[0m\u001b[0;34m\u001b[0m\u001b[0m\n\u001b[1;32m   2119\u001b[0m \u001b[0;34m\u001b[0m\u001b[0m\n",
            "\u001b[0;32m<decorator-gen-116>\u001b[0m in \u001b[0;36mcuda\u001b[0;34m(self, line, cell)\u001b[0m\n",
            "\u001b[0;32m/usr/local/lib/python3.7/dist-packages/IPython/core/magic.py\u001b[0m in \u001b[0;36m<lambda>\u001b[0;34m(f, *a, **k)\u001b[0m\n\u001b[1;32m    186\u001b[0m     \u001b[0;31m# but it's overkill for just that one bit of state.\u001b[0m\u001b[0;34m\u001b[0m\u001b[0;34m\u001b[0m\u001b[0;34m\u001b[0m\u001b[0m\n\u001b[1;32m    187\u001b[0m     \u001b[0;32mdef\u001b[0m \u001b[0mmagic_deco\u001b[0m\u001b[0;34m(\u001b[0m\u001b[0marg\u001b[0m\u001b[0;34m)\u001b[0m\u001b[0;34m:\u001b[0m\u001b[0;34m\u001b[0m\u001b[0;34m\u001b[0m\u001b[0m\n\u001b[0;32m--> 188\u001b[0;31m         \u001b[0mcall\u001b[0m \u001b[0;34m=\u001b[0m \u001b[0;32mlambda\u001b[0m \u001b[0mf\u001b[0m\u001b[0;34m,\u001b[0m \u001b[0;34m*\u001b[0m\u001b[0ma\u001b[0m\u001b[0;34m,\u001b[0m \u001b[0;34m**\u001b[0m\u001b[0mk\u001b[0m\u001b[0;34m:\u001b[0m \u001b[0mf\u001b[0m\u001b[0;34m(\u001b[0m\u001b[0;34m*\u001b[0m\u001b[0ma\u001b[0m\u001b[0;34m,\u001b[0m \u001b[0;34m**\u001b[0m\u001b[0mk\u001b[0m\u001b[0;34m)\u001b[0m\u001b[0;34m\u001b[0m\u001b[0;34m\u001b[0m\u001b[0m\n\u001b[0m\u001b[1;32m    189\u001b[0m \u001b[0;34m\u001b[0m\u001b[0m\n\u001b[1;32m    190\u001b[0m         \u001b[0;32mif\u001b[0m \u001b[0mcallable\u001b[0m\u001b[0;34m(\u001b[0m\u001b[0marg\u001b[0m\u001b[0;34m)\u001b[0m\u001b[0;34m:\u001b[0m\u001b[0;34m\u001b[0m\u001b[0;34m\u001b[0m\u001b[0m\n",
            "\u001b[0;32m/usr/local/lib/python3.7/dist-packages/v2/v2.py\u001b[0m in \u001b[0;36mcuda\u001b[0;34m(self, line, cell)\u001b[0m\n\u001b[1;32m     70\u001b[0m         \u001b[0;32mif\u001b[0m \u001b[0margs\u001b[0m\u001b[0;34m.\u001b[0m\u001b[0mcompile\u001b[0m\u001b[0;34m:\u001b[0m\u001b[0;34m\u001b[0m\u001b[0;34m\u001b[0m\u001b[0m\n\u001b[1;32m     71\u001b[0m             \u001b[0;32mtry\u001b[0m\u001b[0;34m:\u001b[0m\u001b[0;34m\u001b[0m\u001b[0;34m\u001b[0m\u001b[0m\n\u001b[0;32m---> 72\u001b[0;31m                 \u001b[0mself\u001b[0m\u001b[0;34m.\u001b[0m\u001b[0mcompile\u001b[0m\u001b[0;34m(\u001b[0m\u001b[0mself\u001b[0m\u001b[0;34m.\u001b[0m\u001b[0moutput_dir\u001b[0m\u001b[0;34m,\u001b[0m \u001b[0mfile_path\u001b[0m\u001b[0;34m,\u001b[0m \u001b[0mself\u001b[0m\u001b[0;34m.\u001b[0m\u001b[0mout\u001b[0m\u001b[0;34m)\u001b[0m\u001b[0;34m\u001b[0m\u001b[0;34m\u001b[0m\u001b[0m\n\u001b[0m\u001b[1;32m     73\u001b[0m                 \u001b[0moutput\u001b[0m \u001b[0;34m=\u001b[0m \u001b[0mself\u001b[0m\u001b[0;34m.\u001b[0m\u001b[0mrun\u001b[0m\u001b[0;34m(\u001b[0m\u001b[0mtimeit\u001b[0m\u001b[0;34m=\u001b[0m\u001b[0margs\u001b[0m\u001b[0;34m.\u001b[0m\u001b[0mtimeit\u001b[0m\u001b[0;34m)\u001b[0m\u001b[0;34m\u001b[0m\u001b[0;34m\u001b[0m\u001b[0m\n\u001b[1;32m     74\u001b[0m             \u001b[0;32mexcept\u001b[0m \u001b[0msubprocess\u001b[0m\u001b[0;34m.\u001b[0m\u001b[0mCalledProcessError\u001b[0m \u001b[0;32mas\u001b[0m \u001b[0me\u001b[0m\u001b[0;34m:\u001b[0m\u001b[0;34m\u001b[0m\u001b[0;34m\u001b[0m\u001b[0m\n",
            "\u001b[0;32m/usr/local/lib/python3.7/dist-packages/v2/v2.py\u001b[0m in \u001b[0;36mcompile\u001b[0;34m(output_dir, file_paths, out)\u001b[0m\n\u001b[1;32m     30\u001b[0m         res = subprocess.check_output(\n\u001b[1;32m     31\u001b[0m             [compiler, '-I' + output_dir, file_paths, \"-o\", out, '-Wno-deprecated-gpu-targets'], stderr=subprocess.STDOUT)\n\u001b[0;32m---> 32\u001b[0;31m         \u001b[0mhelper\u001b[0m\u001b[0;34m.\u001b[0m\u001b[0mprint_out\u001b[0m\u001b[0;34m(\u001b[0m\u001b[0mres\u001b[0m\u001b[0;34m)\u001b[0m\u001b[0;34m\u001b[0m\u001b[0;34m\u001b[0m\u001b[0m\n\u001b[0m\u001b[1;32m     33\u001b[0m \u001b[0;34m\u001b[0m\u001b[0m\n\u001b[1;32m     34\u001b[0m     \u001b[0;32mdef\u001b[0m \u001b[0mrun\u001b[0m\u001b[0;34m(\u001b[0m\u001b[0mself\u001b[0m\u001b[0;34m,\u001b[0m \u001b[0mtimeit\u001b[0m\u001b[0;34m=\u001b[0m\u001b[0;32mFalse\u001b[0m\u001b[0;34m)\u001b[0m\u001b[0;34m:\u001b[0m\u001b[0;34m\u001b[0m\u001b[0;34m\u001b[0m\u001b[0m\n",
            "\u001b[0;32m/usr/local/lib/python3.7/dist-packages/common/helper.py\u001b[0m in \u001b[0;36mprint_out\u001b[0;34m(out)\u001b[0m\n\u001b[1;32m     10\u001b[0m \u001b[0;34m\u001b[0m\u001b[0m\n\u001b[1;32m     11\u001b[0m \u001b[0;32mdef\u001b[0m \u001b[0mprint_out\u001b[0m\u001b[0;34m(\u001b[0m\u001b[0mout\u001b[0m\u001b[0;34m:\u001b[0m \u001b[0mstr\u001b[0m\u001b[0;34m)\u001b[0m\u001b[0;34m:\u001b[0m\u001b[0;34m\u001b[0m\u001b[0;34m\u001b[0m\u001b[0m\n\u001b[0;32m---> 12\u001b[0;31m     \u001b[0;32mfor\u001b[0m \u001b[0ml\u001b[0m \u001b[0;32min\u001b[0m \u001b[0mout\u001b[0m\u001b[0;34m.\u001b[0m\u001b[0msplit\u001b[0m\u001b[0;34m(\u001b[0m\u001b[0;34m'\\n'\u001b[0m\u001b[0;34m)\u001b[0m\u001b[0;34m:\u001b[0m\u001b[0;34m\u001b[0m\u001b[0;34m\u001b[0m\u001b[0m\n\u001b[0m\u001b[1;32m     13\u001b[0m         \u001b[0mprint\u001b[0m\u001b[0;34m(\u001b[0m\u001b[0ml\u001b[0m\u001b[0;34m)\u001b[0m\u001b[0;34m\u001b[0m\u001b[0;34m\u001b[0m\u001b[0m\n",
            "\u001b[0;31mTypeError\u001b[0m: a bytes-like object is required, not 'str'"
          ]
        }
      ]
    },
    {
      "cell_type": "code",
      "source": [
        "%%cuda --name sobel_test.cu --compile false\n",
        "\n",
        "#include <stdio.h>\n",
        "#include <stdlib.h>\n",
        "#include <math.h>\n",
        "#include <time.h>\n",
        "#include <omp.h>\n",
        "#include <sys/time.h>\n",
        "#define STB_IMAGE_IMPLEMENTATION\n",
        "#include <stb_image.h>\n",
        "#define STB_IMAGE_WRITE_IMPLEMENTATION\n",
        "#include <stb_image_write.h>\n",
        "\n",
        "#define BLOCKSPERGRID  512\n",
        "#define NUMTHREADS 8192\n",
        "\n",
        "\n",
        "/*****************************************************************************\n",
        "/*kernel\n",
        "*****************************************************************************/\n",
        "\n",
        "__global__ void handleGray(unsigned char *gray_img, unsigned char *img, int width, int height, int totalThreads)\n",
        "{   \n",
        "    int start, end;\n",
        "    int index = (blockDim.x * blockIdx.x) + threadIdx.x;\n",
        "    start = (height/totalThreads) * index;\n",
        "    end = start + (height/totalThreads) - 1;\n",
        " \n",
        "    if(height < (index + 1)*(height/totalThreads)){\n",
        "        end = height - 1;\n",
        "    }\n",
        "    int i = start;\n",
        "    do{\n",
        "        \n",
        "        for(int j = 0; j < width; j++){\n",
        "            unsigned char *dir_gray_pixel = gray_img + i*width + j;\n",
        "            unsigned char *dir_ch_pixel = img + 3*(i*width + j);\n",
        "            *dir_gray_pixel = (uint8_t)((*dir_ch_pixel + *(dir_ch_pixel + 1) + *(dir_ch_pixel + 2))/3.0);\n",
        "            //printf(\"i: %d, j: %d\", i, j);\n",
        "        }\n",
        "        i++;\n",
        "    }while(i <= end);\n",
        " \n",
        "}\n",
        "\n",
        "\n",
        "__global__ void handleSobel(unsigned char *gray_img, unsigned char *sobel_img, int width, int height, int totalThreads)\n",
        "{   \n",
        "    int start, end;\n",
        "    int index = (blockDim.x * blockIdx.x) + threadIdx.x;\n",
        "    start = (height/totalThreads) * index;\n",
        "    end = start + (height/totalThreads) - 1;\n",
        " \n",
        "    if(height < (index + 1)*(height/totalThreads)){\n",
        "        end = height - 1;\n",
        "    }\n",
        "    //printf(\"I start in the %dth row and finish at the %dth row\\nrelationship %d, %d, %d\\n\", start, end, height, totalThreads, (height/totalThreads));\n",
        "    int i = start;\n",
        "    int conv[3][3] = {\n",
        "        {-1, -1, -1},\n",
        "        {-1, 8, -1},\n",
        "        {-1, -1, -1}    \n",
        "    };\n",
        "    do{\n",
        "        for(int j = 0; j < width; j++){\n",
        "            unsigned char *dir_sobel_pixel = sobel_img + i*width + j;\n",
        "            unsigned char *dir_gray_pixel = gray_img + i*width + j;   \n",
        "            int sum = 0;\n",
        "            if(i == 0 || i == (height-1) || j == 0 || j == (width - 1)){\n",
        "                *dir_sobel_pixel = (uint8_t)sum;\n",
        "            }else{\n",
        "                for(int k = -1; k <= 1; ++k){\n",
        "                    for(int l = -1; l <= 1; ++l){\n",
        "                        unsigned char *dir_n_pixel = dir_gray_pixel + k*width + l;\n",
        "                        sum += *dir_n_pixel * conv[k+1][l+1];\n",
        "                    }\n",
        "                }\n",
        "                sum = sum < 0 ? 0 : sum;\n",
        "                *dir_sobel_pixel = (uint8_t)sum;\n",
        "            }\n",
        "        }\n",
        "        i++;\n",
        "    }while(i <= end); \n",
        "}\n",
        "\n",
        "/******************************************************************************/\n",
        "\n",
        "int main(int argc, char** argv) {\n",
        "    /*Declaración de variables para medir el tiempo de procesamiento y escibirlo en\n",
        "    un archivo de texto plano*/\n",
        "    int width, height, channels, blocksPerGrid, threadsPerBlock, totalThreads;\n",
        "    unsigned char *h_gray_img, *d_gray_img, *d_img, *h_sobel_img, *d_sobel_img;\n",
        "\n",
        "    \n",
        "    cudaError_t err = cudaSuccess;\n",
        "\n",
        "    if(argc != 5){\n",
        "        printf(\"beware of usage: ./sobel_image input_image output_image num_threads \\n\");\n",
        "        return 0;\n",
        "\n",
        "    }\n",
        "    //Asignamos los nombres de input y output para las imágenes en variables\n",
        "    char* input = argv[1];\n",
        "    char* output = argv[2];\n",
        "    int thread_count = atoi(argv[3]);\n",
        "    int block_count = atoi(argv[4]);\n",
        "    //int block_treads = \n",
        "    blocksPerGrid = block_count;\n",
        "\n",
        "    //Cargamos la imagen con el nombre de input ingresado\n",
        "    unsigned char *h_img = stbi_load(input, &width, &height, &channels, 0);\n",
        "    if(h_img == NULL) {\n",
        "        printf(\"Error in loading the image\\n\");\n",
        "        exit(1);\n",
        "    }\n",
        "\n",
        "    //Creamos variables para convertir la imagen de input a tonalidades de gris\n",
        "    int gray_channels = 1;\n",
        "    int img_size = width * height * channels;\n",
        "    int gray_img_size = width * height * gray_channels;\n",
        "\n",
        "    err = cudaMalloc((void **)&d_img, img_size);\n",
        "    if (err != cudaSuccess){\n",
        "        fprintf(stderr, \"Failed to allocate device image (error code %s)!\\n\", cudaGetErrorString(err));\n",
        "        exit(EXIT_FAILURE);\n",
        "    }\n",
        "\n",
        "    err = cudaMemcpy(d_img, h_img, img_size, cudaMemcpyHostToDevice);\n",
        "    if (err != cudaSuccess){\n",
        "        fprintf(stderr, \"Failed to copy image from host to device (error code %s)!\\n\", cudaGetErrorString(err));\n",
        "        exit(EXIT_FAILURE);\n",
        "    }\n",
        "\n",
        "    //Utilizamos memoria dinámica para el número de bits de la imagen en gris\n",
        "    h_gray_img = (unsigned char *)malloc(gray_img_size);\n",
        "    if(h_gray_img == NULL) {\n",
        "        printf(\"Unable to allocate memory for the host gray image.\\n\");\n",
        "        exit(1);\n",
        "    }\n",
        "    \n",
        "    err = cudaMalloc((void **)&d_gray_img, gray_img_size);\n",
        "    if (err != cudaSuccess){\n",
        "        fprintf(stderr, \"Failed to allocate device gray image (error code %s)!\\n\", cudaGetErrorString(err));\n",
        "        exit(EXIT_FAILURE);\n",
        "    }\n",
        "\n",
        "    err = cudaMemcpy(d_gray_img, h_gray_img, gray_img_size, cudaMemcpyHostToDevice);\n",
        "    if (err != cudaSuccess){\n",
        "        fprintf(stderr, \"Failed to copy vector C from device to host (error code %s)!\\n\", cudaGetErrorString(err));\n",
        "        exit(EXIT_FAILURE);\n",
        "    }    \n",
        "\n",
        "   //Ejecutamos el kernel para la conversión a escala de grises de la imagen\n",
        "    threadsPerBlock = thread_count/blocksPerGrid;\n",
        "    totalThreads = blocksPerGrid * threadsPerBlock;\n",
        "    printf(\"CUDA kernel launch with %d blocks of %d threads Total: %i     \", blocksPerGrid, threadsPerBlock, totalThreads);\n",
        "    handleGray<<<blocksPerGrid, threadsPerBlock>>>(d_gray_img, d_img, width, height, totalThreads);\n",
        "    err = cudaGetLastError();\n",
        "    if (err != cudaSuccess){\n",
        "        fprintf(stderr, \"Failed to launch handleGray kernel (error code %s)!\\n\", cudaGetErrorString(err));\n",
        "        exit(EXIT_FAILURE);\n",
        "    }\n",
        "    \n",
        "    \n",
        "    err = cudaMemcpy(h_gray_img, d_gray_img, gray_img_size, cudaMemcpyDeviceToHost);\n",
        "    if (err != cudaSuccess){\n",
        "        fprintf(stderr, \"Failed to copy gray image from device to host (error code %s)!\\n\", cudaGetErrorString(err));\n",
        "        exit(EXIT_FAILURE);\n",
        "    }\n",
        "    //stbi_write_png(\"gris.png\", width, height, gray_channels, h_gray_img, width * gray_channels);\n",
        "    \n",
        "\n",
        "    //Utilizamos memoria dinámica para el número de bits de la imagen sobel\n",
        "    h_sobel_img = (unsigned char *)malloc(gray_img_size);\n",
        "    if(h_sobel_img == NULL) {\n",
        "        printf(\"Unable to allocate memory for the host h_sobel_img.\\n\");\n",
        "        exit(1);\n",
        "    }\n",
        "    \n",
        "    err = cudaMalloc((void **)&d_sobel_img, gray_img_size);\n",
        "    if (err != cudaSuccess){\n",
        "        fprintf(stderr, \"Failed to allocate device h_sobel_img (error code %s)!\\n\", cudaGetErrorString(err));\n",
        "        exit(EXIT_FAILURE);\n",
        "    }\n",
        "\n",
        "    err = cudaMemcpy(d_sobel_img, h_sobel_img, gray_img_size, cudaMemcpyHostToDevice);\n",
        "    if (err != cudaSuccess){\n",
        "        fprintf(stderr, \"Failed to copy sobel image from host to device (error code %s)!\\n\", cudaGetErrorString(err));\n",
        "        exit(EXIT_FAILURE);\n",
        "    }    \n",
        "\n",
        "    //Ejecutamos el kernel para la aplicación de sobel\n",
        "    \n",
        "    printf(\"CUDA kernel launch with %d blocks of %d threads Total: %i     \", blocksPerGrid, threadsPerBlock, totalThreads  );\n",
        "    handleSobel<<<blocksPerGrid, threadsPerBlock>>>(d_gray_img,  d_sobel_img, width,  height, totalThreads);\n",
        "    err = cudaGetLastError();\n",
        "    if (err != cudaSuccess){\n",
        "        fprintf(stderr, \"Failed to launch handleSobel kernel (error code %s)!\\n\", cudaGetErrorString(err));\n",
        "        exit(EXIT_FAILURE);\n",
        "    }\n",
        "\n",
        "    //printf(\"Count: %d \\n\", count);\n",
        "\n",
        "    err = cudaMemcpy(h_sobel_img, d_sobel_img, gray_img_size, cudaMemcpyDeviceToHost);\n",
        "    if (err != cudaSuccess){\n",
        "        fprintf(stderr, \"Failed to copy sobel image from device to host (error code %s)!\\n\", cudaGetErrorString(err));\n",
        "        exit(EXIT_FAILURE);\n",
        "    }\n",
        "\n",
        "    //stbi_write_png(output, width, height, gray_channels, h_sobel_img, width * gray_channels);    \n",
        "    \n",
        "    \n",
        "    //Liberamos las memorias dinámicas de host y device\n",
        "    err = cudaFree(d_img);\n",
        "    if (err != cudaSuccess){\n",
        "        fprintf(stderr, \"Failed to free device d_img (error code %s)!\\n\", cudaGetErrorString(err));\n",
        "        exit(EXIT_FAILURE);\n",
        "    }\n",
        "\n",
        "    err = cudaFree(d_gray_img);\n",
        "    if (err != cudaSuccess){\n",
        "        fprintf(stderr, \"Failed to free device d_gray_img (error code %s)!\\n\", cudaGetErrorString(err));\n",
        "        exit(EXIT_FAILURE);\n",
        "    }\n",
        "\n",
        "    err = cudaFree(d_sobel_img);\n",
        "    if (err != cudaSuccess){\n",
        "        fprintf(stderr, \"Failed to free device d_sobel_img (error code %s)!\\n\", cudaGetErrorString(err));\n",
        "        exit(EXIT_FAILURE);\n",
        "    }\n",
        "    stbi_image_free(h_img);\n",
        "    free(h_gray_img);\n",
        "    free(h_sobel_img);    \n",
        "    \n",
        "    //Imprimimos la información \n",
        "    //printf(\"The execution time for %s with resolution: %dx%d and %d threads was: %f \\n\", input, width, height, thread_count, time_spent);\n",
        "}\n",
        "//change"
      ],
      "metadata": {
        "colab": {
          "base_uri": "https://localhost:8080/",
          "height": 505
        },
        "id": "Vjs2INqPHAAM",
        "outputId": "408b1721-64f4-428a-ece4-2183b5c0bc2b"
      },
      "execution_count": null,
      "outputs": [
        {
          "output_type": "error",
          "ename": "TypeError",
          "evalue": "ignored",
          "traceback": [
            "\u001b[0;31m---------------------------------------------------------------------------\u001b[0m",
            "\u001b[0;31mTypeError\u001b[0m                                 Traceback (most recent call last)",
            "\u001b[0;32m<ipython-input-58-8a726bcd37d8>\u001b[0m in \u001b[0;36m<module>\u001b[0;34m()\u001b[0m\n\u001b[0;32m----> 1\u001b[0;31m \u001b[0mget_ipython\u001b[0m\u001b[0;34m(\u001b[0m\u001b[0;34m)\u001b[0m\u001b[0;34m.\u001b[0m\u001b[0mrun_cell_magic\u001b[0m\u001b[0;34m(\u001b[0m\u001b[0;34m'cuda'\u001b[0m\u001b[0;34m,\u001b[0m \u001b[0;34m'--name sobel_test.cu --compile false'\u001b[0m\u001b[0;34m,\u001b[0m \u001b[0;34m'\\n#include <stdio.h>\\n#include <stdlib.h>\\n#include <math.h>\\n#include <time.h>\\n#include <omp.h>\\n#include <sys/time.h>\\n#define STB_IMAGE_IMPLEMENTATION\\n#include <stb_image.h>\\n#define STB_IMAGE_WRITE_IMPLEMENTATION\\n#include <stb_image_write.h>\\n\\n#define BLOCKSPERGRID  512\\n#define NUMTHREADS 8192\\n\\n\\n/*****************************************************************************\\n/*kernel\\n*****************************************************************************/\\n\\n__global__ void handleGray(unsigned char *gray_img, unsigned char *img, int width, int height, int totalThreads)\\n{   \\n    int start, end;\\n    int index = (blockDim.x * blockIdx.x) + threadIdx.x;\\n    start = (height/totalThreads) * index;\\n    end = start + (height/totalThreads) - 1;\\n \\n    if(height < (index + 1)*(height/totalThreads)){\\n        end = height - 1;\\n    }\\n    int i = start;\\n    do{\\n        \\n        for(int j = 0; j < width; j++){\\n            unsigned char *dir_gray_pixel = gray_img + i*width + j;\\n            unsigned char *dir_ch_pixel = img + 3*(i*width + j);\\n            *dir_gray_pixel = (uint8_t)((*dir_ch_pixel + *(dir_ch_pixel + 1) + *(dir_ch_pixel + 2))/3.0);\\n            //printf(\"i: %d, j: %d\", i, j);\\n        }\\n        i++;\\n    }while(i <= end);\\n \\n}\\n\\n\\n_...\n\u001b[0m",
            "\u001b[0;32m/usr/local/lib/python3.7/dist-packages/IPython/core/interactiveshell.py\u001b[0m in \u001b[0;36mrun_cell_magic\u001b[0;34m(self, magic_name, line, cell)\u001b[0m\n\u001b[1;32m   2115\u001b[0m             \u001b[0mmagic_arg_s\u001b[0m \u001b[0;34m=\u001b[0m \u001b[0mself\u001b[0m\u001b[0;34m.\u001b[0m\u001b[0mvar_expand\u001b[0m\u001b[0;34m(\u001b[0m\u001b[0mline\u001b[0m\u001b[0;34m,\u001b[0m \u001b[0mstack_depth\u001b[0m\u001b[0;34m)\u001b[0m\u001b[0;34m\u001b[0m\u001b[0;34m\u001b[0m\u001b[0m\n\u001b[1;32m   2116\u001b[0m             \u001b[0;32mwith\u001b[0m \u001b[0mself\u001b[0m\u001b[0;34m.\u001b[0m\u001b[0mbuiltin_trap\u001b[0m\u001b[0;34m:\u001b[0m\u001b[0;34m\u001b[0m\u001b[0;34m\u001b[0m\u001b[0m\n\u001b[0;32m-> 2117\u001b[0;31m                 \u001b[0mresult\u001b[0m \u001b[0;34m=\u001b[0m \u001b[0mfn\u001b[0m\u001b[0;34m(\u001b[0m\u001b[0mmagic_arg_s\u001b[0m\u001b[0;34m,\u001b[0m \u001b[0mcell\u001b[0m\u001b[0;34m)\u001b[0m\u001b[0;34m\u001b[0m\u001b[0;34m\u001b[0m\u001b[0m\n\u001b[0m\u001b[1;32m   2118\u001b[0m             \u001b[0;32mreturn\u001b[0m \u001b[0mresult\u001b[0m\u001b[0;34m\u001b[0m\u001b[0;34m\u001b[0m\u001b[0m\n\u001b[1;32m   2119\u001b[0m \u001b[0;34m\u001b[0m\u001b[0m\n",
            "\u001b[0;32m<decorator-gen-116>\u001b[0m in \u001b[0;36mcuda\u001b[0;34m(self, line, cell)\u001b[0m\n",
            "\u001b[0;32m/usr/local/lib/python3.7/dist-packages/IPython/core/magic.py\u001b[0m in \u001b[0;36m<lambda>\u001b[0;34m(f, *a, **k)\u001b[0m\n\u001b[1;32m    186\u001b[0m     \u001b[0;31m# but it's overkill for just that one bit of state.\u001b[0m\u001b[0;34m\u001b[0m\u001b[0;34m\u001b[0m\u001b[0;34m\u001b[0m\u001b[0m\n\u001b[1;32m    187\u001b[0m     \u001b[0;32mdef\u001b[0m \u001b[0mmagic_deco\u001b[0m\u001b[0;34m(\u001b[0m\u001b[0marg\u001b[0m\u001b[0;34m)\u001b[0m\u001b[0;34m:\u001b[0m\u001b[0;34m\u001b[0m\u001b[0;34m\u001b[0m\u001b[0m\n\u001b[0;32m--> 188\u001b[0;31m         \u001b[0mcall\u001b[0m \u001b[0;34m=\u001b[0m \u001b[0;32mlambda\u001b[0m \u001b[0mf\u001b[0m\u001b[0;34m,\u001b[0m \u001b[0;34m*\u001b[0m\u001b[0ma\u001b[0m\u001b[0;34m,\u001b[0m \u001b[0;34m**\u001b[0m\u001b[0mk\u001b[0m\u001b[0;34m:\u001b[0m \u001b[0mf\u001b[0m\u001b[0;34m(\u001b[0m\u001b[0;34m*\u001b[0m\u001b[0ma\u001b[0m\u001b[0;34m,\u001b[0m \u001b[0;34m**\u001b[0m\u001b[0mk\u001b[0m\u001b[0;34m)\u001b[0m\u001b[0;34m\u001b[0m\u001b[0;34m\u001b[0m\u001b[0m\n\u001b[0m\u001b[1;32m    189\u001b[0m \u001b[0;34m\u001b[0m\u001b[0m\n\u001b[1;32m    190\u001b[0m         \u001b[0;32mif\u001b[0m \u001b[0mcallable\u001b[0m\u001b[0;34m(\u001b[0m\u001b[0marg\u001b[0m\u001b[0;34m)\u001b[0m\u001b[0;34m:\u001b[0m\u001b[0;34m\u001b[0m\u001b[0;34m\u001b[0m\u001b[0m\n",
            "\u001b[0;32m/usr/local/lib/python3.7/dist-packages/v2/v2.py\u001b[0m in \u001b[0;36mcuda\u001b[0;34m(self, line, cell)\u001b[0m\n\u001b[1;32m     70\u001b[0m         \u001b[0;32mif\u001b[0m \u001b[0margs\u001b[0m\u001b[0;34m.\u001b[0m\u001b[0mcompile\u001b[0m\u001b[0;34m:\u001b[0m\u001b[0;34m\u001b[0m\u001b[0;34m\u001b[0m\u001b[0m\n\u001b[1;32m     71\u001b[0m             \u001b[0;32mtry\u001b[0m\u001b[0;34m:\u001b[0m\u001b[0;34m\u001b[0m\u001b[0;34m\u001b[0m\u001b[0m\n\u001b[0;32m---> 72\u001b[0;31m                 \u001b[0mself\u001b[0m\u001b[0;34m.\u001b[0m\u001b[0mcompile\u001b[0m\u001b[0;34m(\u001b[0m\u001b[0mself\u001b[0m\u001b[0;34m.\u001b[0m\u001b[0moutput_dir\u001b[0m\u001b[0;34m,\u001b[0m \u001b[0mfile_path\u001b[0m\u001b[0;34m,\u001b[0m \u001b[0mself\u001b[0m\u001b[0;34m.\u001b[0m\u001b[0mout\u001b[0m\u001b[0;34m)\u001b[0m\u001b[0;34m\u001b[0m\u001b[0;34m\u001b[0m\u001b[0m\n\u001b[0m\u001b[1;32m     73\u001b[0m                 \u001b[0moutput\u001b[0m \u001b[0;34m=\u001b[0m \u001b[0mself\u001b[0m\u001b[0;34m.\u001b[0m\u001b[0mrun\u001b[0m\u001b[0;34m(\u001b[0m\u001b[0mtimeit\u001b[0m\u001b[0;34m=\u001b[0m\u001b[0margs\u001b[0m\u001b[0;34m.\u001b[0m\u001b[0mtimeit\u001b[0m\u001b[0;34m)\u001b[0m\u001b[0;34m\u001b[0m\u001b[0;34m\u001b[0m\u001b[0m\n\u001b[1;32m     74\u001b[0m             \u001b[0;32mexcept\u001b[0m \u001b[0msubprocess\u001b[0m\u001b[0;34m.\u001b[0m\u001b[0mCalledProcessError\u001b[0m \u001b[0;32mas\u001b[0m \u001b[0me\u001b[0m\u001b[0;34m:\u001b[0m\u001b[0;34m\u001b[0m\u001b[0;34m\u001b[0m\u001b[0m\n",
            "\u001b[0;32m/usr/local/lib/python3.7/dist-packages/v2/v2.py\u001b[0m in \u001b[0;36mcompile\u001b[0;34m(output_dir, file_paths, out)\u001b[0m\n\u001b[1;32m     30\u001b[0m         res = subprocess.check_output(\n\u001b[1;32m     31\u001b[0m             [compiler, '-I' + output_dir, file_paths, \"-o\", out, '-Wno-deprecated-gpu-targets'], stderr=subprocess.STDOUT)\n\u001b[0;32m---> 32\u001b[0;31m         \u001b[0mhelper\u001b[0m\u001b[0;34m.\u001b[0m\u001b[0mprint_out\u001b[0m\u001b[0;34m(\u001b[0m\u001b[0mres\u001b[0m\u001b[0;34m)\u001b[0m\u001b[0;34m\u001b[0m\u001b[0;34m\u001b[0m\u001b[0m\n\u001b[0m\u001b[1;32m     33\u001b[0m \u001b[0;34m\u001b[0m\u001b[0m\n\u001b[1;32m     34\u001b[0m     \u001b[0;32mdef\u001b[0m \u001b[0mrun\u001b[0m\u001b[0;34m(\u001b[0m\u001b[0mself\u001b[0m\u001b[0;34m,\u001b[0m \u001b[0mtimeit\u001b[0m\u001b[0;34m=\u001b[0m\u001b[0;32mFalse\u001b[0m\u001b[0;34m)\u001b[0m\u001b[0;34m:\u001b[0m\u001b[0;34m\u001b[0m\u001b[0;34m\u001b[0m\u001b[0m\n",
            "\u001b[0;32m/usr/local/lib/python3.7/dist-packages/common/helper.py\u001b[0m in \u001b[0;36mprint_out\u001b[0;34m(out)\u001b[0m\n\u001b[1;32m     10\u001b[0m \u001b[0;34m\u001b[0m\u001b[0m\n\u001b[1;32m     11\u001b[0m \u001b[0;32mdef\u001b[0m \u001b[0mprint_out\u001b[0m\u001b[0;34m(\u001b[0m\u001b[0mout\u001b[0m\u001b[0;34m:\u001b[0m \u001b[0mstr\u001b[0m\u001b[0;34m)\u001b[0m\u001b[0;34m:\u001b[0m\u001b[0;34m\u001b[0m\u001b[0;34m\u001b[0m\u001b[0m\n\u001b[0;32m---> 12\u001b[0;31m     \u001b[0;32mfor\u001b[0m \u001b[0ml\u001b[0m \u001b[0;32min\u001b[0m \u001b[0mout\u001b[0m\u001b[0;34m.\u001b[0m\u001b[0msplit\u001b[0m\u001b[0;34m(\u001b[0m\u001b[0;34m'\\n'\u001b[0m\u001b[0;34m)\u001b[0m\u001b[0;34m:\u001b[0m\u001b[0;34m\u001b[0m\u001b[0;34m\u001b[0m\u001b[0m\n\u001b[0m\u001b[1;32m     13\u001b[0m         \u001b[0mprint\u001b[0m\u001b[0;34m(\u001b[0m\u001b[0ml\u001b[0m\u001b[0;34m)\u001b[0m\u001b[0;34m\u001b[0m\u001b[0;34m\u001b[0m\u001b[0m\n",
            "\u001b[0;31mTypeError\u001b[0m: a bytes-like object is required, not 'str'"
          ]
        }
      ]
    },
    {
      "cell_type": "code",
      "source": [
        "%cd /usr/local/cuda-11.0/samples/1_Utilities/deviceQuery\n",
        "!nvcc -o sobel.out src/sobel.cu\n",
        "%cp ./sobel.out /content/\n",
        "%cd /content\n",
        "!time ./sobel.out 4k/bicho.jpg 4k/bicho_bordes.jpg 1080 2\n"
      ],
      "metadata": {
        "id": "zI9O_U_HS8XA"
      },
      "execution_count": null,
      "outputs": []
    },
    {
      "cell_type": "code",
      "source": [
        "%cd /usr/local/cuda-11.0/samples/1_Utilities/deviceQuery\n",
        "!nvcc -o sobel_test.out src/sobel_test.cu\n",
        "%cp ./sobel_test.out /content/\n",
        "%cd /content\n",
        "!time ./sobel_test.out 4k/bicho.jpg 4k/bicho_bordes.jpg 2048 2048\n"
      ],
      "metadata": {
        "colab": {
          "base_uri": "https://localhost:8080/"
        },
        "id": "nvjB18onHDsR",
        "outputId": "0adeb0dc-379e-4ca0-ad72-0373f2b42155"
      },
      "execution_count": null,
      "outputs": [
        {
          "output_type": "stream",
          "name": "stdout",
          "text": [
            "/usr/local/cuda-11.0/samples/1_Utilities/deviceQuery\n",
            "nvcc warning : The 'compute_20', 'sm_20', and 'sm_21' architectures are deprecated, and may be removed in a future release (Use -Wno-deprecated-gpu-targets to suppress warning).\n",
            "src/sobel_test.cu(103): warning: variable \"output\" was declared but never referenced\n",
            "\n",
            "src/sobel_test.cu(103): warning: variable \"output\" was declared but never referenced\n",
            "\n",
            "/content\n",
            "CUDA kernel launch with 2048 blocks of 1 threads Total: 2048     CUDA kernel launch with 2048 blocks of 1 threads Total: 2048     \n",
            "real\t0m0.526s\n",
            "user\t0m0.270s\n",
            "sys\t0m0.242s\n"
          ]
        }
      ]
    },
    {
      "cell_type": "code",
      "source": [
        "!time ./sobel_test.out 4k/bicho.jpg 4k/bicho_bordes.jpg 2048 2"
      ],
      "metadata": {
        "colab": {
          "base_uri": "https://localhost:8080/"
        },
        "id": "ixI23q2vJgMP",
        "outputId": "41a0ae5c-0d2f-4872-f0e7-029566615735"
      },
      "execution_count": null,
      "outputs": [
        {
          "output_type": "stream",
          "name": "stdout",
          "text": [
            "CUDA kernel launch with 2 blocks of 1024 threads Total: 2048     CUDA kernel launch with 2 blocks of 1024 threads Total: 2048     \n",
            "real\t0m0.587s\n",
            "user\t0m0.327s\n",
            "sys\t0m0.246s\n"
          ]
        }
      ]
    },
    {
      "cell_type": "code",
      "source": [
        "!time ./sobel_test.out 4k/bicho.jpg 4k/bicho_bordes.jpg 2048 12"
      ],
      "metadata": {
        "colab": {
          "base_uri": "https://localhost:8080/"
        },
        "id": "7buBWylHJjcU",
        "outputId": "51d3de19-f73f-4833-d731-ca961bcd1d95"
      },
      "execution_count": null,
      "outputs": [
        {
          "output_type": "stream",
          "name": "stdout",
          "text": [
            "CUDA kernel launch with 12 blocks of 170 threads Total: 2040     CUDA kernel launch with 12 blocks of 170 threads Total: 2040     \n",
            "real\t0m0.497s\n",
            "user\t0m0.241s\n",
            "sys\t0m0.242s\n"
          ]
        }
      ]
    },
    {
      "cell_type": "code",
      "source": [
        "!time ./sobel_test.out 4k/bicho.jpg 4k/bicho_bordes.jpg 8 1"
      ],
      "metadata": {
        "colab": {
          "base_uri": "https://localhost:8080/"
        },
        "id": "EhWSDum_JrkF",
        "outputId": "07569d89-1f7c-45a9-e11a-d3f702f17e3a"
      },
      "execution_count": null,
      "outputs": [
        {
          "output_type": "stream",
          "name": "stdout",
          "text": [
            "CUDA kernel launch with 1 blocks of 8 threads Total: 8     CUDA kernel launch with 1 blocks of 8 threads Total: 8     \n",
            "real\t0m0.956s\n",
            "user\t0m0.710s\n",
            "sys\t0m0.236s\n"
          ]
        }
      ]
    },
    {
      "cell_type": "code",
      "source": [
        "!time ./sobel_test.out 4k/bicho.jpg 4k/bicho_bordes.jpg 1 1"
      ],
      "metadata": {
        "colab": {
          "base_uri": "https://localhost:8080/"
        },
        "id": "-rqJt1YFKCyg",
        "outputId": "680b996a-eeb7-47a6-cb19-62ce02f176e8"
      },
      "execution_count": null,
      "outputs": [
        {
          "output_type": "stream",
          "name": "stdout",
          "text": [
            "CUDA kernel launch with 1 blocks of 1 threads Total: 1     CUDA kernel launch with 1 blocks of 1 threads Total: 1     \n",
            "real\t0m2.947s\n",
            "user\t0m2.703s\n",
            "sys\t0m0.232s\n"
          ]
        }
      ]
    },
    {
      "cell_type": "code",
      "source": [
        "!time ./sobel_test.out 4k/bicho.jpg 4k/bicho_bordes.jpg 2 1"
      ],
      "metadata": {
        "colab": {
          "base_uri": "https://localhost:8080/"
        },
        "id": "qQI11bP1KHO5",
        "outputId": "71ff0f8f-8206-4af4-ee74-7d1194943830"
      },
      "execution_count": null,
      "outputs": [
        {
          "output_type": "stream",
          "name": "stdout",
          "text": [
            "CUDA kernel launch with 1 blocks of 2 threads Total: 2     CUDA kernel launch with 1 blocks of 2 threads Total: 2     \n",
            "real\t0m1.710s\n",
            "user\t0m1.481s\n",
            "sys\t0m0.218s\n"
          ]
        }
      ]
    },
    {
      "cell_type": "code",
      "source": [
        "!time ./sobel_test.out 4k/bicho.jpg 4k/bicho_bordes.jpg 4 1"
      ],
      "metadata": {
        "colab": {
          "base_uri": "https://localhost:8080/"
        },
        "id": "fM3i2RN0KJYa",
        "outputId": "1a2e6e34-fac4-48f3-9ca0-9990bfb11ee2"
      },
      "execution_count": null,
      "outputs": [
        {
          "output_type": "stream",
          "name": "stdout",
          "text": [
            "CUDA kernel launch with 1 blocks of 4 threads Total: 4     CUDA kernel launch with 1 blocks of 4 threads Total: 4     \n",
            "real\t0m1.269s\n",
            "user\t0m1.000s\n",
            "sys\t0m0.255s\n"
          ]
        }
      ]
    },
    {
      "cell_type": "code",
      "source": [
        "!time ./sobel_test.out 4k/bicho.jpg 4k/bicho_bordes.jpg 8 1"
      ],
      "metadata": {
        "colab": {
          "base_uri": "https://localhost:8080/"
        },
        "id": "h4lSZPxCKfMr",
        "outputId": "2a42bff8-b7d5-4251-e894-1eefb1a835b6"
      },
      "execution_count": null,
      "outputs": [
        {
          "output_type": "stream",
          "name": "stdout",
          "text": [
            "CUDA kernel launch with 1 blocks of 8 threads Total: 8     CUDA kernel launch with 1 blocks of 8 threads Total: 8     \n",
            "real\t0m0.965s\n",
            "user\t0m0.705s\n",
            "sys\t0m0.245s\n"
          ]
        }
      ]
    },
    {
      "cell_type": "code",
      "source": [
        "!time ./sobel_test.out 4k/bicho.jpg 4k/bicho_bordes.jpg 16 1"
      ],
      "metadata": {
        "colab": {
          "base_uri": "https://localhost:8080/"
        },
        "id": "aogkmRl5KqoP",
        "outputId": "5bfadb3a-b66b-4ef1-e9da-0342c4e27af3"
      },
      "execution_count": null,
      "outputs": [
        {
          "output_type": "stream",
          "name": "stdout",
          "text": [
            "CUDA kernel launch with 1 blocks of 16 threads Total: 16     CUDA kernel launch with 1 blocks of 16 threads Total: 16     \n",
            "real\t0m0.835s\n",
            "user\t0m0.579s\n",
            "sys\t0m0.242s\n"
          ]
        }
      ]
    },
    {
      "cell_type": "code",
      "source": [
        "!time ./sobel_test.out 4k/bicho.jpg 4k/bicho_bordes.jpg 32 1"
      ],
      "metadata": {
        "colab": {
          "base_uri": "https://localhost:8080/"
        },
        "id": "uA-CX7I-Ks_k",
        "outputId": "d7e4e633-31aa-484d-e6eb-7986f5bef6a8"
      },
      "execution_count": null,
      "outputs": [
        {
          "output_type": "stream",
          "name": "stdout",
          "text": [
            "CUDA kernel launch with 1 blocks of 32 threads Total: 32     CUDA kernel launch with 1 blocks of 32 threads Total: 32     \n",
            "real\t0m0.750s\n",
            "user\t0m0.476s\n",
            "sys\t0m0.254s\n"
          ]
        }
      ]
    },
    {
      "cell_type": "code",
      "source": [
        "!time ./sobel_test.out 4k/bicho.jpg 4k/bicho_bordes.jpg 64 1"
      ],
      "metadata": {
        "colab": {
          "base_uri": "https://localhost:8080/"
        },
        "id": "p49D09vZKutO",
        "outputId": "eeda8d71-660b-49cc-fdaf-ddd641e94a5a"
      },
      "execution_count": null,
      "outputs": [
        {
          "output_type": "stream",
          "name": "stdout",
          "text": [
            "CUDA kernel launch with 1 blocks of 64 threads Total: 64     CUDA kernel launch with 1 blocks of 64 threads Total: 64     \n",
            "real\t0m0.704s\n",
            "user\t0m0.432s\n",
            "sys\t0m0.257s\n"
          ]
        }
      ]
    },
    {
      "cell_type": "code",
      "source": [
        "!time ./sobel_test.out 4k/bicho.jpg 4k/bicho_bordes.jpg 128 1"
      ],
      "metadata": {
        "colab": {
          "base_uri": "https://localhost:8080/"
        },
        "id": "vIPKfXdgKxP7",
        "outputId": "430a3af7-7046-4853-85e5-62500cab09a6"
      },
      "execution_count": null,
      "outputs": [
        {
          "output_type": "stream",
          "name": "stdout",
          "text": [
            "CUDA kernel launch with 1 blocks of 128 threads Total: 128     CUDA kernel launch with 1 blocks of 128 threads Total: 128     \n",
            "real\t0m0.689s\n",
            "user\t0m0.425s\n",
            "sys\t0m0.246s\n"
          ]
        }
      ]
    },
    {
      "cell_type": "code",
      "source": [
        "!time ./sobel_test.out 4k/bicho.jpg 4k/bicho_bordes.jpg 256 128"
      ],
      "metadata": {
        "colab": {
          "base_uri": "https://localhost:8080/"
        },
        "id": "TvSAW0ZQKzRG",
        "outputId": "bf349472-4a83-4f77-df5c-f8322a2f7765"
      },
      "execution_count": null,
      "outputs": [
        {
          "output_type": "stream",
          "name": "stdout",
          "text": [
            "CUDA kernel launch with 128 blocks of 2 threads Total: 256     CUDA kernel launch with 128 blocks of 2 threads Total: 256     \n",
            "real\t0m0.529s\n",
            "user\t0m0.265s\n",
            "sys\t0m0.241s\n"
          ]
        }
      ]
    },
    {
      "cell_type": "code",
      "source": [
        "!time ./sobel_test.out 4k/bicho.jpg 4k/bicho_bordes.jpg 512 128"
      ],
      "metadata": {
        "colab": {
          "base_uri": "https://localhost:8080/"
        },
        "id": "2Iuj6ZHsLeBA",
        "outputId": "431ffab1-f89d-4915-abdc-5702da195046"
      },
      "execution_count": null,
      "outputs": [
        {
          "output_type": "stream",
          "name": "stdout",
          "text": [
            "CUDA kernel launch with 128 blocks of 4 threads Total: 512     CUDA kernel launch with 128 blocks of 4 threads Total: 512     \n",
            "real\t0m0.502s\n",
            "user\t0m0.249s\n",
            "sys\t0m0.231s\n"
          ]
        }
      ]
    },
    {
      "cell_type": "code",
      "source": [
        "!time ./sobel_test.out 4k/bicho.jpg 4k/bicho_bordes.jpg 2048 128"
      ],
      "metadata": {
        "colab": {
          "base_uri": "https://localhost:8080/"
        },
        "id": "Rk29EwF4KiOu",
        "outputId": "ebeabe8f-380c-4759-f198-4a5191ec087f"
      },
      "execution_count": null,
      "outputs": [
        {
          "output_type": "stream",
          "name": "stdout",
          "text": [
            "CUDA kernel launch with 128 blocks of 16 threads Total: 2048     CUDA kernel launch with 128 blocks of 16 threads Total: 2048     \n",
            "real\t0m0.491s\n",
            "user\t0m0.232s\n",
            "sys\t0m0.238s\n"
          ]
        }
      ]
    },
    {
      "cell_type": "code",
      "source": [
        "!time ./sobel_test.out 4k/bicho.jpg 4k/bicho_bordes.jpg 2048 1024"
      ],
      "metadata": {
        "colab": {
          "base_uri": "https://localhost:8080/"
        },
        "id": "bUfaEYtcKpLz",
        "outputId": "7e760e77-8133-4964-a14b-53f00c523c6c"
      },
      "execution_count": null,
      "outputs": [
        {
          "output_type": "stream",
          "name": "stdout",
          "text": [
            "CUDA kernel launch with 1024 blocks of 2 threads Total: 2048     CUDA kernel launch with 1024 blocks of 2 threads Total: 2048     \n",
            "real\t0m0.517s\n",
            "user\t0m0.256s\n",
            "sys\t0m0.249s\n"
          ]
        }
      ]
    },
    {
      "cell_type": "code",
      "source": [
        ""
      ],
      "metadata": {
        "id": "5L2j-o9eLwK9"
      },
      "execution_count": null,
      "outputs": []
    },
    {
      "cell_type": "code",
      "source": [
        "print_img('4k/bicho_bordes.jpg')"
      ],
      "metadata": {
        "id": "SDMDNG56Uefe",
        "colab": {
          "base_uri": "https://localhost:8080/",
          "height": 269
        },
        "outputId": "e1b7fd52-49a8-48a5-9e5b-34483f612360"
      },
      "execution_count": null,
      "outputs": [
        {
          "output_type": "display_data",
          "data": {
            "image/png": "[encoded data removed]",
            "text/plain": [
              "<Figure size 432x288 with 1 Axes>"
            ]
          },
          "metadata": {
            "needs_background": "light"
          }
        }
      ]
    },
    {
      "cell_type": "code",
      "source": [
        "print_img('gris.png')"
      ],
      "metadata": {
        "colab": {
          "base_uri": "https://localhost:8080/",
          "height": 269
        },
        "id": "VvNT4O_lHypa",
        "outputId": "68fb2ce2-1860-4134-b9db-5acb8663e90d"
      },
      "execution_count": null,
      "outputs": [
        {
          "output_type": "display_data",
          "data": {
            "image/png": "[encoded data removed]",
            "text/plain": [
              "<Figure size 432x288 with 1 Axes>"
            ]
          },
          "metadata": {
            "needs_background": "light"
          }
        }
      ]
    },
    {
      "cell_type": "code",
      "source": [
        ""
      ],
      "metadata": {
        "id": "Z_8i2MJBo0SQ"
      },
      "execution_count": null,
      "outputs": []
    }
  ]
}